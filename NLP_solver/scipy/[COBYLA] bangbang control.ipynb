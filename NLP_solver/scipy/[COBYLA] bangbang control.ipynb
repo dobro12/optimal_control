{
 "cells": [
  {
   "cell_type": "markdown",
   "metadata": {},
   "source": [
    "## NLP solver reference\n",
    "- sciPy\n",
    "    - https://docs.scipy.org/doc/scipy/reference/tutorial/optimize.html#constrained-minimization-of-multivariate-scalar-functions-minimize\n",
    "    - https://docs.scipy.org/doc/scipy/reference/optimize.html"
   ]
  },
  {
   "cell_type": "code",
   "execution_count": 1,
   "metadata": {},
   "outputs": [],
   "source": [
    "from scipy.optimize import minimize\n",
    "from scipy.optimize import Bounds\n",
    "\n",
    "import matplotlib.pyplot as plt\n",
    "import numpy as np\n",
    "import time"
   ]
  },
  {
   "cell_type": "markdown",
   "metadata": {},
   "source": [
    "state 및 control을 N개의 piece-wise로 쪼갠다고 가정.\n",
    "$$\n",
    "x[0] : t_{f} \\\\\n",
    "x[1:N+2] : u_0, u_1, ..., u_N \\\\\n",
    "x[N+2:3*N+4] : x_0, \\dot{x}_0, x_1, \\dot{x}_1, ..., x_N, \\dot{x}_N \\\\\n",
    "$$"
   ]
  },
  {
   "cell_type": "code",
   "execution_count": 3,
   "metadata": {},
   "outputs": [],
   "source": [
    "def dynamics(x, u):\n",
    "    A_mat = np.array([[0, 1], [0, 0]])\n",
    "    B_mat = np.array([[0], [1]])\n",
    "    result = np.matmul(A_mat, x) + np.matmul(B_mat, u)\n",
    "    return result"
   ]
  },
  {
   "cell_type": "code",
   "execution_count": 4,
   "metadata": {},
   "outputs": [],
   "source": [
    "def obj_func(x):\n",
    "    f = x[0]\n",
    "    return f\n",
    "\n",
    "def obj_jacobian(x):\n",
    "    jacobian = np.zeros((1, len(x)))\n",
    "    jacobian[0, 0] = 1.0\n",
    "    return jacobian"
   ]
  },
  {
   "cell_type": "code",
   "execution_count": 17,
   "metadata": {},
   "outputs": [],
   "source": [
    "def ineq_cons_func(x):\n",
    "    N = int((len(x) - 1)/3 - 1)\n",
    "    t_f = x[0]\n",
    "    u_list = np.array(x[1:N+2]).reshape((N+1, 1))\n",
    "    x_list = np.array(x[N+2:]).reshape((N+1, 2))\n",
    "    dt = t_f/N\n",
    "    \n",
    "    # get x_dot from dynamics\n",
    "    x_dot_list = dynamics(x_list.T, u_list.T).T\n",
    "    \n",
    "    # transform variables for pice-wise polynomial\n",
    "    x_left = x_list[:N,:]\n",
    "    x_right = x_list[1:,:]\n",
    "    x_dot_left = x_dot_list[:N,:]\n",
    "    x_dot_right = x_dot_list[1:,:]\n",
    "    u_left = u_list[:N,:]\n",
    "    u_right = u_list[1:,:]\n",
    "    \n",
    "    # get collocation points\n",
    "    x_c = 0.5*(x_left + x_right) + dt*0.125*(x_dot_left - x_dot_right)\n",
    "    u_c = 0.5*(u_left + u_right)\n",
    "    x_dot_c = dynamics(x_c.T, u_c.T).T\n",
    "\n",
    "    # equality constraint\n",
    "    eq_cons1 = np.ravel(x_left - x_right + dt*(x_dot_left + 4*x_dot_c + x_dot_right)/6) # 2N 개\n",
    "    eq_cons2 = np.array([x_list[0,0], x_list[0,1], x_list[N,0] - 10.0, x_list[N,1]]) # 4 개\n",
    "\n",
    "    # inequality constraint\n",
    "    ineq_cons1 = np.ravel(u_list - 1.0)\n",
    "    ineq_cons2 = np.ravel(-1.0 - u_list)\n",
    "\n",
    "    ineq_cons = np.concatenate([eq_cons1, -eq_cons1, eq_cons2, -eq_cons2, ineq_cons1, ineq_cons2])\n",
    "    return ineq_cons\n",
    "\n",
    "ineq_cons = {\n",
    "    'type':'ineq',\n",
    "    'fun' :ineq_cons_func,\n",
    "    }"
   ]
  },
  {
   "cell_type": "code",
   "execution_count": 18,
   "metadata": {},
   "outputs": [],
   "source": [
    "N = 100\n",
    "t_f_init = 10.0\n",
    "u_init = np.zeros((N+1,1))\n",
    "state_init = np.zeros((N+1,2))\n",
    "x_init = np.concatenate([[t_f_init], u_init.ravel(), state_init.ravel()])"
   ]
  },
  {
   "cell_type": "code",
   "execution_count": 34,
   "metadata": {},
   "outputs": [
    {
     "name": "stdout",
     "output_type": "stream",
     "text": [
      "elapsed time : 0.02505 s\n"
     ]
    }
   ],
   "source": [
    "start_t = time.time()\n",
    "res = minimize(obj_func, x_init, method=\"COBYLA\", constraints=[ineq_cons], tol=1e-6, \\\n",
    "               options={'rhobeg': 10.0, 'maxiter': 100, 'disp': True, 'catol': 1e-6})\n",
    "print(\"elapsed time : {:.5f} s\".format(time.time() - start_t))"
   ]
  },
  {
   "cell_type": "code",
   "execution_count": 35,
   "metadata": {},
   "outputs": [
    {
     "name": "stdout",
     "output_type": "stream",
     "text": [
      "[[0.]\n",
      " [0.]\n",
      " [0.]\n",
      " [0.]\n",
      " [0.]\n",
      " [0.]\n",
      " [0.]\n",
      " [0.]\n",
      " [0.]\n",
      " [0.]\n",
      " [0.]\n",
      " [0.]\n",
      " [0.]\n",
      " [0.]\n",
      " [0.]\n",
      " [0.]\n",
      " [0.]\n",
      " [0.]\n",
      " [0.]\n",
      " [0.]\n",
      " [0.]\n",
      " [0.]\n",
      " [0.]\n",
      " [0.]\n",
      " [0.]\n",
      " [0.]\n",
      " [0.]\n",
      " [0.]\n",
      " [0.]\n",
      " [0.]\n",
      " [0.]\n",
      " [0.]\n",
      " [0.]\n",
      " [0.]\n",
      " [0.]\n",
      " [0.]\n",
      " [0.]\n",
      " [0.]\n",
      " [0.]\n",
      " [0.]\n",
      " [0.]\n",
      " [0.]\n",
      " [0.]\n",
      " [0.]\n",
      " [0.]\n",
      " [0.]\n",
      " [0.]\n",
      " [0.]\n",
      " [0.]\n",
      " [0.]\n",
      " [0.]\n",
      " [0.]\n",
      " [0.]\n",
      " [0.]\n",
      " [0.]\n",
      " [0.]\n",
      " [0.]\n",
      " [0.]\n",
      " [0.]\n",
      " [0.]\n",
      " [0.]\n",
      " [0.]\n",
      " [0.]\n",
      " [0.]\n",
      " [0.]\n",
      " [0.]\n",
      " [0.]\n",
      " [0.]\n",
      " [0.]\n",
      " [0.]\n",
      " [0.]\n",
      " [0.]\n",
      " [0.]\n",
      " [0.]\n",
      " [0.]\n",
      " [0.]\n",
      " [0.]\n",
      " [0.]\n",
      " [0.]\n",
      " [0.]\n",
      " [0.]\n",
      " [0.]\n",
      " [0.]\n",
      " [0.]\n",
      " [0.]\n",
      " [0.]\n",
      " [0.]\n",
      " [0.]\n",
      " [0.]\n",
      " [0.]\n",
      " [0.]\n",
      " [0.]\n",
      " [0.]\n",
      " [0.]\n",
      " [0.]\n",
      " [0.]\n",
      " [0.]\n",
      " [0.]\n",
      " [0.]\n",
      " [0.]\n",
      " [0.]]\n"
     ]
    },
    {
     "data": {
      "image/png": "[encoded data removed]",
      "text/plain": [
       "<Figure size 864x432 with 1 Axes>"
      ]
     },
     "metadata": {
      "needs_background": "light"
     },
     "output_type": "display_data"
    }
   ],
   "source": [
    "N = int((len(res.x) - 1)/3 - 1)\n",
    "t_f = res.x[0]\n",
    "t_list = np.linspace(0, t_f, N+1)\n",
    "u_list = np.array(res.x[1:N+2]).reshape((N+1, 1))\n",
    "x_list = np.array(res.x[N+2:]).reshape((N+1, 2))\n",
    "print(u_list)\n",
    "\n",
    "fig_size = 6\n",
    "fig, ax = plt.subplots(nrows=1, ncols=1, figsize=(fig_size*2, fig_size))\n",
    "ax.plot(t_list, x_list[:,0], label=\"pos\")\n",
    "ax.plot(t_list, x_list[:,1], label=\"vel\")\n",
    "#ax.set_ylim(-1, 10)\n",
    "ax.grid()\n",
    "ax.legend()\n",
    "ax.set_title('x : state')\n",
    "\n",
    "fig.tight_layout()\n",
    "plt.show()"
   ]
  },
  {
   "cell_type": "code",
   "execution_count": null,
   "metadata": {},
   "outputs": [],
   "source": []
  }
 ],
 "metadata": {
  "kernelspec": {
   "display_name": "Python 3",
   "language": "python",
   "name": "python3"
  },
  "language_info": {
   "codemirror_mode": {
    "name": "ipython",
    "version": 3
   },
   "file_extension": ".py",
   "mimetype": "text/x-python",
   "name": "python",
   "nbconvert_exporter": "python",
   "pygments_lexer": "ipython3",
   "version": "3.6.9"
  }
 },
 "nbformat": 4,
 "nbformat_minor": 4
}
