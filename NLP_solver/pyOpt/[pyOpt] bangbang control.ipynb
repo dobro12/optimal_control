{
 "cells": [
  {
   "cell_type": "markdown",
   "metadata": {},
   "source": [
    "## NLP solver reference\n",
    "- pyOpt : http://www.pyopt.org/tutorial.html"
   ]
  },
  {
   "cell_type": "code",
   "execution_count": 1,
   "metadata": {
    "scrolled": true
   },
   "outputs": [
    {
     "name": "stdout",
     "output_type": "stream",
     "text": [
      "[debugging error] cannot import name 'SOLVOPT'\n",
      "[debugging error] cannot import name 'MMA'\n",
      "[debugging error] cannot import name 'COBYLA'\n",
      "[debugging error] cannot import name 'SNOPT'\n",
      "[debugging error] cannot import name 'NLPQL'\n",
      "[debugging error] cannot import name 'NLPQLP'\n",
      "[debugging error] cannot import name 'NSGA2'\n",
      "[debugging error] cannot import name 'FSQP'\n",
      "[debugging error] cannot import name 'PSQP'\n",
      "[debugging error] cannot import name 'MIDACO'\n",
      "[debugging error] cannot import name 'MMFD'\n",
      "[debugging error] cannot import name 'FILTERSD'\n",
      "[debugging error] cannot import name 'SDPEN'\n",
      "[debugging error] cannot import name 'GCMMA'\n"
     ]
    }
   ],
   "source": [
    "import pyOpt"
   ]
  },
  {
   "cell_type": "code",
   "execution_count": 2,
   "metadata": {},
   "outputs": [],
   "source": [
    "import matplotlib.pyplot as plt\n",
    "import numpy as np"
   ]
  },
  {
   "cell_type": "markdown",
   "metadata": {},
   "source": [
    "state 및 control을 N개의 piece-wise로 쪼갠다고 가정.\n",
    "$$\n",
    "x[0] : t_{f} \\\\\n",
    "x[1:N+2] : u_0, u_1, ..., u_N \\\\\n",
    "x[N+2:3*N+4] : x_0, \\dot{x}_0, x_1, \\dot{x}_1, ..., x_N, \\dot{x}_N \\\\\n",
    "$$"
   ]
  },
  {
   "cell_type": "code",
   "execution_count": 3,
   "metadata": {},
   "outputs": [],
   "source": [
    "def dynamics(x, u):\n",
    "    A_mat = np.array([[0, 1], [0, 0]])\n",
    "    B_mat = np.array([[0], [1]])\n",
    "    result = np.matmul(A_mat, x) + np.matmul(B_mat, u)\n",
    "    return result"
   ]
  },
  {
   "cell_type": "code",
   "execution_count": 13,
   "metadata": {},
   "outputs": [],
   "source": [
    "def objfunc(x):\n",
    "    N = int((len(x) - 1)/3 - 1)\n",
    "    t_f = x[0]\n",
    "    u_list = np.array(x[1:N+2]).reshape((N+1, 1))\n",
    "    x_list = np.array(x[N+2:]).reshape((N+1, 2))\n",
    "    dt = t_f/N\n",
    "    \n",
    "    # get x_dot from dynamics\n",
    "    x_dot_list = dynamics(x_list.T, u_list.T).T\n",
    "    \n",
    "    # transform variables for pice-wise polynomial\n",
    "    x_left = x_list[:N,:]\n",
    "    x_right = x_list[1:,:]\n",
    "    x_dot_left = x_dot_list[:N,:]\n",
    "    x_dot_right = x_dot_list[1:,:]\n",
    "    u_left = u_list[:N,:]\n",
    "    u_right = u_list[1:,:]\n",
    "    \n",
    "    # get collocation points\n",
    "    x_c = 0.5*(x_left + x_right) + dt*0.125*(x_dot_left - x_dot_right)\n",
    "    u_c = 0.5*(u_left + u_right)\n",
    "    x_dot_c = dynamics(x_c.T, u_c.T).T\n",
    "    \n",
    "    # objective\n",
    "    f = t_f\n",
    "\n",
    "    '''\n",
    "    # equality constraint\n",
    "    e_cons = list(np.ravel(x_left - x_right + dt*(x_dot_left + 4*x_dot_c + x_dot_right)/6))\n",
    "    e_cons += [x_list[0,0], x_list[0,1], x_list[N,0] - 10.0, x_list[N,1]]\n",
    "    # inequality constraint\n",
    "    i_cons = []\n",
    "    # constraint\n",
    "    g = e_cons + i_cons\n",
    "    '''\n",
    "    # equality constraint\n",
    "    e_cons = np.ravel(x_left - x_right + dt*(x_dot_left + 4*x_dot_c + x_dot_right)/6)\n",
    "    e_cons2 = np.array([x_list[0,0], x_list[0,1], x_list[N,0] - 10.0, x_list[N,1]])\n",
    "    g = np.concatenate([e_cons, -e_cons, e_cons2, -e_cons2])\n",
    "\n",
    "    fail = 0\n",
    "    return f, g, fail"
   ]
  },
  {
   "cell_type": "code",
   "execution_count": 14,
   "metadata": {},
   "outputs": [],
   "source": [
    "opt_prob = pyOpt.Optimization('bang bang control', objfunc)"
   ]
  },
  {
   "cell_type": "code",
   "execution_count": 15,
   "metadata": {},
   "outputs": [],
   "source": [
    "opt_prob.addObj('f')\n",
    "#opt_prob.addVar('x1','c',lower=0.0,upper=42.0,value=10.0)\n",
    "#opt_prob.addVar('x2','c',lower=0.0,upper=42.0,value=10.0)\n",
    "#opt_prob.addVar('x3','c',lower=0.0,upper=42.0,value=10.0)\n",
    "#opt_prob.addVarGroup('x', 3, 'c', value=[10.0, 10.0, 10.0], lower=[0.0, 0.0, 0.0], upper=[42.0, 42.0, 42.0])\n",
    "#opt_prob.addVar('x','c',lower=-np.inf,upper=np.inf,value=10.0)\n",
    "#opt_prob.addVar('x','c',value=10.0)\n",
    "\n",
    "N = 5\n",
    "opt_prob.addVar('t_f', 'c', lower=0.0, value=10.0)\n",
    "opt_prob.addVarGroup('u', (N+1)*1, 'c', value=np.zeros(N+1), lower=-np.ones(N+1), upper=np.ones(N+1))\n",
    "opt_prob.addVarGroup('x', (N+1)*2, 'c', value=np.ones((N+1)*2))\n",
    "#opt_prob.addConGroup('g', N+4, 'e')\n",
    "opt_prob.addConGroup('g', 2*(N+4), 'i')"
   ]
  },
  {
   "cell_type": "code",
   "execution_count": 16,
   "metadata": {},
   "outputs": [
    {
     "name": "stdout",
     "output_type": "stream",
     "text": [
      "\n",
      "Optimization Problem -- bang bang control\n",
      "================================================================================\n",
      "\n",
      "        Objective Function: objfunc\n",
      "\n",
      "    Objectives:\n",
      "        Name        Value        Optimum\n",
      "\t     f               0             0\n",
      "\n",
      "\tVariables (c - continuous, i - integer, d - discrete):\n",
      "        Name    Type       Value       Lower Bound  Upper Bound\n",
      "\t    t_f       c\t     10.000000       0.00e+00     1.00e+21 \n",
      "\t    u_0       c\t      0.000000      -1.00e+00     1.00e+00 \n",
      "\t    u_1       c\t      0.000000      -1.00e+00     1.00e+00 \n",
      "\t    u_2       c\t      0.000000      -1.00e+00     1.00e+00 \n",
      "\t    u_3       c\t      0.000000      -1.00e+00     1.00e+00 \n",
      "\t    u_4       c\t      0.000000      -1.00e+00     1.00e+00 \n",
      "\t    u_5       c\t      0.000000      -1.00e+00     1.00e+00 \n",
      "\t    x_0       c\t      1.000000      -1.00e+21     1.00e+21 \n",
      "\t    x_1       c\t      1.000000      -1.00e+21     1.00e+21 \n",
      "\t    x_2       c\t      1.000000      -1.00e+21     1.00e+21 \n",
      "\t    x_3       c\t      1.000000      -1.00e+21     1.00e+21 \n",
      "\t    x_4       c\t      1.000000      -1.00e+21     1.00e+21 \n",
      "\t    x_5       c\t      1.000000      -1.00e+21     1.00e+21 \n",
      "\t    x_6       c\t      1.000000      -1.00e+21     1.00e+21 \n",
      "\t    x_7       c\t      1.000000      -1.00e+21     1.00e+21 \n",
      "\t    x_8       c\t      1.000000      -1.00e+21     1.00e+21 \n",
      "\t    x_9       c\t      1.000000      -1.00e+21     1.00e+21 \n",
      "\t    x_10      c\t      1.000000      -1.00e+21     1.00e+21 \n",
      "\t    x_11      c\t      1.000000      -1.00e+21     1.00e+21 \n",
      "\n",
      "\tConstraints (i - inequality, e - equality):\n",
      "        Name    Type                    Bounds\n",
      "\t    g_0   \t  i       -1.00e+21 <= 0.000000 <= 0.00e+00\n",
      "\t    g_1   \t  i       -1.00e+21 <= 0.000000 <= 0.00e+00\n",
      "\t    g_2   \t  i       -1.00e+21 <= 0.000000 <= 0.00e+00\n",
      "\t    g_3   \t  i       -1.00e+21 <= 0.000000 <= 0.00e+00\n",
      "\t    g_4   \t  i       -1.00e+21 <= 0.000000 <= 0.00e+00\n",
      "\t    g_5   \t  i       -1.00e+21 <= 0.000000 <= 0.00e+00\n",
      "\t    g_6   \t  i       -1.00e+21 <= 0.000000 <= 0.00e+00\n",
      "\t    g_7   \t  i       -1.00e+21 <= 0.000000 <= 0.00e+00\n",
      "\t    g_8   \t  i       -1.00e+21 <= 0.000000 <= 0.00e+00\n",
      "\t    g_9   \t  i       -1.00e+21 <= 0.000000 <= 0.00e+00\n",
      "\t    g_10  \t  i       -1.00e+21 <= 0.000000 <= 0.00e+00\n",
      "\t    g_11  \t  i       -1.00e+21 <= 0.000000 <= 0.00e+00\n",
      "\t    g_12  \t  i       -1.00e+21 <= 0.000000 <= 0.00e+00\n",
      "\t    g_13  \t  i       -1.00e+21 <= 0.000000 <= 0.00e+00\n",
      "\t    g_14  \t  i       -1.00e+21 <= 0.000000 <= 0.00e+00\n",
      "\t    g_15  \t  i       -1.00e+21 <= 0.000000 <= 0.00e+00\n",
      "\t    g_16  \t  i       -1.00e+21 <= 0.000000 <= 0.00e+00\n",
      "\t    g_17  \t  i       -1.00e+21 <= 0.000000 <= 0.00e+00\n",
      "\n"
     ]
    }
   ],
   "source": [
    "print(opt_prob)"
   ]
  },
  {
   "cell_type": "code",
   "execution_count": 17,
   "metadata": {},
   "outputs": [],
   "source": [
    "solver = pyOpt.SLSQP()\n",
    "#solver = pyOpt.CONMIN()\n",
    "#solver = pyOpt.KSOPT()"
   ]
  },
  {
   "cell_type": "code",
   "execution_count": 18,
   "metadata": {},
   "outputs": [
    {
     "name": "stdout",
     "output_type": "stream",
     "text": [
      "\n",
      "\n",
      "Attributes List of: 'SLSQP' - SLSQP Instance\n",
      "\n",
      "category : 'Local Optimizer'\n",
      "informs : {-1: 'Gradient evaluation required (g & a)', 0: 'Optimization terminated successfully.', 1: 'Function evaluation required (f & c)', 2: 'More equality constraints than independent variables', 3: 'More than 3*n iterations in LSQ subproblem', 4: 'Inequality constraints incompatible', 5: 'Singular matrix E in LSQ subproblem', 6: 'Singular matrix C in LSQ subproblem', 7: 'Rank-deficient equality constraint subproblem HFTI', 8: 'Positive directional derivative for linesearch', 9: 'Iteration limit exceeded'}\n",
      "options : {'defaults': {'ACC': [<class 'float'>, 1e-06], 'MAXIT': [<class 'int'>, 50], 'IPRINT': [<class 'int'>, 1], 'IOUT': [<class 'int'>, 6], 'IFILE': [<class 'str'>, 'SLSQP.out']}, 'ACC': [<class 'float'>, 1e-06], 'MAXIT': [<class 'int'>, 50], 'IPRINT': [<class 'int'>, 1], 'IOUT': [<class 'int'>, 6], 'IFILE': [<class 'str'>, 'SLSQP.out']}\n",
      "poa : False\n",
      "\n",
      "\n"
     ]
    }
   ],
   "source": [
    "solver.ListAttributes()"
   ]
  },
  {
   "cell_type": "code",
   "execution_count": 19,
   "metadata": {},
   "outputs": [],
   "source": [
    "#solver.setOption('IPRINT', 1)"
   ]
  },
  {
   "cell_type": "code",
   "execution_count": 20,
   "metadata": {},
   "outputs": [
    {
     "name": "stdout",
     "output_type": "stream",
     "text": [
      "{'value': 0, 'text': 'Optimization terminated successfully.'}\n"
     ]
    }
   ],
   "source": [
    "fstr, xstr, inform = solver(opt_prob, sens_type='FD')\n",
    "print(inform)"
   ]
  },
  {
   "cell_type": "code",
   "execution_count": 21,
   "metadata": {},
   "outputs": [
    {
     "name": "stdout",
     "output_type": "stream",
     "text": [
      "\n",
      "SLSQP Solution to bang bang control\n",
      "================================================================================\n",
      "\n",
      "        Objective Function: objfunc\n",
      "\n",
      "    Solution: \n",
      "--------------------------------------------------------------------------------\n",
      "    Total Time:                    0.0082\n",
      "    Total Function Evaluations:         0\n",
      "    Sensitivities:        FD\n",
      "\n",
      "    Objectives:\n",
      "        Name        Value        Optimum\n",
      "\t     f    -6.18296e-14             0\n",
      "\n",
      "\tVariables (c - continuous, i - integer, d - discrete):\n",
      "        Name    Type       Value       Lower Bound  Upper Bound\n",
      "\t    t_f       c\t     -0.000000       0.00e+00     1.00e+21 \n",
      "\t    u_0       c\t     -0.412133      -1.00e+00     1.00e+00 \n",
      "\t    u_1       c\t     -0.466577      -1.00e+00     1.00e+00 \n",
      "\t    u_2       c\t     -0.362763      -1.00e+00     1.00e+00 \n",
      "\t    u_3       c\t     -0.443314      -1.00e+00     1.00e+00 \n",
      "\t    u_4       c\t     -0.365829      -1.00e+00     1.00e+00 \n",
      "\t    u_5       c\t      0.362707      -1.00e+00     1.00e+00 \n",
      "\t    x_0       c\t      0.715162      -1.00e+21     1.00e+21 \n",
      "\t    x_1       c\t     -0.161985      -1.00e+21     1.00e+21 \n",
      "\t    x_2       c\t      0.715162      -1.00e+21     1.00e+21 \n",
      "\t    x_3       c\t     -0.161985      -1.00e+21     1.00e+21 \n",
      "\t    x_4       c\t      0.715162      -1.00e+21     1.00e+21 \n",
      "\t    x_5       c\t     -0.161985      -1.00e+21     1.00e+21 \n",
      "\t    x_6       c\t      0.715162      -1.00e+21     1.00e+21 \n",
      "\t    x_7       c\t     -0.161985      -1.00e+21     1.00e+21 \n",
      "\t    x_8       c\t      0.715162      -1.00e+21     1.00e+21 \n",
      "\t    x_9       c\t     -0.161985      -1.00e+21     1.00e+21 \n",
      "\t    x_10      c\t      2.424192      -1.00e+21     1.00e+21 \n",
      "\t    x_11      c\t     -0.161985      -1.00e+21     1.00e+21 \n",
      "\n",
      "\tConstraints (i - inequality, e - equality):\n",
      "        Name    Type                    Bounds\n",
      "\t    g_0   \t  i       -1.00e+21 <= 0.000000 <= 0.00e+00\n",
      "\t    g_1   \t  i       -1.00e+21 <= 0.000000 <= 0.00e+00\n",
      "\t    g_2   \t  i       -1.00e+21 <= 0.000000 <= 0.00e+00\n",
      "\t    g_3   \t  i       -1.00e+21 <= 0.000000 <= 0.00e+00\n",
      "\t    g_4   \t  i       -1.00e+21 <= 0.000000 <= 0.00e+00\n",
      "\t    g_5   \t  i       -1.00e+21 <= 0.000000 <= 0.00e+00\n",
      "\t    g_6   \t  i       -1.00e+21 <= -0.000000 <= 0.00e+00\n",
      "\t    g_7   \t  i       -1.00e+21 <= 0.000000 <= 0.00e+00\n",
      "\t    g_8   \t  i       -1.00e+21 <= -1.709030 <= 0.00e+00\n",
      "\t    g_9   \t  i       -1.00e+21 <= 0.000000 <= 0.00e+00\n",
      "\t    g_10  \t  i       -1.00e+21 <= -0.000000 <= 0.00e+00\n",
      "\t    g_11  \t  i       -1.00e+21 <= -0.000000 <= 0.00e+00\n",
      "\t    g_12  \t  i       -1.00e+21 <= -0.000000 <= 0.00e+00\n",
      "\t    g_13  \t  i       -1.00e+21 <= -0.000000 <= 0.00e+00\n",
      "\t    g_14  \t  i       -1.00e+21 <= -0.000000 <= 0.00e+00\n",
      "\t    g_15  \t  i       -1.00e+21 <= -0.000000 <= 0.00e+00\n",
      "\t    g_16  \t  i       -1.00e+21 <= 0.000000 <= 0.00e+00\n",
      "\t    g_17  \t  i       -1.00e+21 <= -0.000000 <= 0.00e+00\n",
      "\n",
      "--------------------------------------------------------------------------------\n",
      "\n"
     ]
    }
   ],
   "source": [
    "print(opt_prob.solution(0))"
   ]
  },
  {
   "cell_type": "code",
   "execution_count": 22,
   "metadata": {},
   "outputs": [
    {
     "data": {
      "image/png": "[encoded data removed]",
      "text/plain": [
       "<Figure size 864x432 with 1 Axes>"
      ]
     },
     "metadata": {
      "needs_background": "light"
     },
     "output_type": "display_data"
    }
   ],
   "source": [
    "N = int((len(xstr) - 1)/3 - 1)\n",
    "t_f = xstr[0]\n",
    "t_list = np.linspace(0, t_f, N+1)\n",
    "u_list = np.array(xstr[1:N+2]).reshape((N+1, 1))\n",
    "x_list = np.array(xstr[N+2:]).reshape((N+1, 2))\n",
    "\n",
    "fig_size = 6\n",
    "fig, ax = plt.subplots(nrows=1, ncols=1, figsize=(fig_size*2, fig_size))\n",
    "ax.plot(t_list, x_list[:,0], label=\"pos\")\n",
    "ax.plot(t_list, x_list[:,1], label=\"vel\")\n",
    "#ax.set_ylim(-1, 10)\n",
    "ax.grid()\n",
    "ax.legend()\n",
    "ax.set_title('x : state')\n",
    "\n",
    "fig.tight_layout()\n",
    "plt.show()"
   ]
  },
  {
   "cell_type": "code",
   "execution_count": null,
   "metadata": {},
   "outputs": [],
   "source": [
    "#print(opt_prob.solution(0))"
   ]
  },
  {
   "cell_type": "code",
   "execution_count": null,
   "metadata": {},
   "outputs": [],
   "source": []
  }
 ],
 "metadata": {
  "kernelspec": {
   "display_name": "Python 3",
   "language": "python",
   "name": "python3"
  },
  "language_info": {
   "codemirror_mode": {
    "name": "ipython",
    "version": 3
   },
   "file_extension": ".py",
   "mimetype": "text/x-python",
   "name": "python",
   "nbconvert_exporter": "python",
   "pygments_lexer": "ipython3",
   "version": "3.6.9"
  }
 },
 "nbformat": 4,
 "nbformat_minor": 4
}
