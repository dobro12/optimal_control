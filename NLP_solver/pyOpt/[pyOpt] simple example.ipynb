{
 "cells": [
  {
   "cell_type": "code",
   "execution_count": 1,
   "metadata": {
    "scrolled": true
   },
   "outputs": [
    {
     "name": "stdout",
     "output_type": "stream",
     "text": [
      "[debugging error] cannot import name 'SOLVOPT'\n",
      "[debugging error] cannot import name 'MMA'\n",
      "[debugging error] cannot import name 'COBYLA'\n",
      "[debugging error] SNOPT shared library failed to import\n",
      "[debugging error] cannot import name 'NLPQL'\n",
      "[debugging error] cannot import name 'NLPQLP'\n",
      "[debugging error] cannot import name 'NSGA2'\n",
      "[debugging error] cannot import name 'FSQP'\n",
      "[debugging error] cannot import name 'PSQP'\n",
      "[debugging error] cannot import name 'MIDACO'\n",
      "[debugging error] cannot import name 'MMFD'\n",
      "[debugging error] cannot import name 'FILTERSD'\n",
      "[debugging error] cannot import name 'SDPEN'\n",
      "[debugging error] cannot import name 'GCMMA'\n"
     ]
    }
   ],
   "source": [
    "import pyOpt"
   ]
  },
  {
   "cell_type": "code",
   "execution_count": 2,
   "metadata": {},
   "outputs": [],
   "source": [
    "def objfunc(x):\n",
    "\n",
    "  f = -x[0]*x[1]*x[2]\n",
    "  g = [0.0]*2\n",
    "  g[0] = x[0] + 2.*x[1] + 2.*x[2] - 72.0\n",
    "  g[1] = -x[0] - 2.*x[1] - 2.*x[2]\n",
    "\n",
    "  fail = 0\n",
    "  return f,g, fail"
   ]
  },
  {
   "cell_type": "code",
   "execution_count": 11,
   "metadata": {},
   "outputs": [],
   "source": [
    "opt_prob = pyOpt.Optimization('TP37 Constrained Problem',objfunc)"
   ]
  },
  {
   "cell_type": "code",
   "execution_count": 12,
   "metadata": {},
   "outputs": [],
   "source": [
    "opt_prob.addObj('f')"
   ]
  },
  {
   "cell_type": "code",
   "execution_count": 13,
   "metadata": {},
   "outputs": [],
   "source": [
    "#opt_prob.addVar('x1','c',lower=0.0,upper=42.0,value=10.0)\n",
    "#opt_prob.addVar('x2','c',lower=0.0,upper=42.0,value=10.0)\n",
    "#opt_prob.addVar('x3','c',lower=0.0,upper=42.0,value=10.0)\n",
    "opt_prob.addVarGroup('y', 3, 'c', value=[10.0, 10.0, 10.0], lower=[0.0, 0.0, 0.0], upper=[42.0, 42.0, 42.0])\n",
    "opt_prob.addConGroup('k',2,'i')"
   ]
  },
  {
   "cell_type": "code",
   "execution_count": 14,
   "metadata": {},
   "outputs": [
    {
     "name": "stdout",
     "output_type": "stream",
     "text": [
      "\n",
      "Optimization Problem -- TP37 Constrained Problem\n",
      "================================================================================\n",
      "\n",
      "        Objective Function: objfunc\n",
      "\n",
      "    Objectives:\n",
      "        Name        Value        Optimum\n",
      "\t     f               0             0\n",
      "\n",
      "\tVariables (c - continuous, i - integer, d - discrete):\n",
      "        Name    Type       Value       Lower Bound  Upper Bound\n",
      "\t    y_0       c\t     10.000000       0.00e+00     4.20e+01 \n",
      "\t    y_1       c\t     10.000000       0.00e+00     4.20e+01 \n",
      "\t    y_2       c\t     10.000000       0.00e+00     4.20e+01 \n",
      "\n",
      "\tConstraints (i - inequality, e - equality):\n",
      "        Name    Type                    Bounds\n",
      "\t    k_0   \t  i       -1.00e+21 <= 0.000000 <= 0.00e+00\n",
      "\t    k_1   \t  i       -1.00e+21 <= 0.000000 <= 0.00e+00\n",
      "\n"
     ]
    }
   ],
   "source": [
    "print(opt_prob)"
   ]
  },
  {
   "cell_type": "code",
   "execution_count": 15,
   "metadata": {},
   "outputs": [],
   "source": [
    "slsqp = pyOpt.SLSQP()"
   ]
  },
  {
   "cell_type": "code",
   "execution_count": 16,
   "metadata": {},
   "outputs": [],
   "source": [
    "slsqp.setOption('IPRINT', -1)"
   ]
  },
  {
   "cell_type": "code",
   "execution_count": 17,
   "metadata": {},
   "outputs": [],
   "source": [
    "[fstr, xstr, inform] = slsqp(opt_prob,sens_type='FD')"
   ]
  },
  {
   "cell_type": "code",
   "execution_count": 18,
   "metadata": {},
   "outputs": [
    {
     "name": "stdout",
     "output_type": "stream",
     "text": [
      "\n",
      "SLSQP Solution to TP37 Constrained Problem\n",
      "================================================================================\n",
      "\n",
      "        Objective Function: objfunc\n",
      "\n",
      "    Solution: \n",
      "--------------------------------------------------------------------------------\n",
      "    Total Time:                    0.0006\n",
      "    Total Function Evaluations:         0\n",
      "    Sensitivities:        FD\n",
      "\n",
      "    Objectives:\n",
      "        Name        Value        Optimum\n",
      "\t     f           -3456             0\n",
      "\n",
      "\tVariables (c - continuous, i - integer, d - discrete):\n",
      "        Name    Type       Value       Lower Bound  Upper Bound\n",
      "\t    y_0       c\t     24.000000       0.00e+00     4.20e+01 \n",
      "\t    y_1       c\t     12.000000       0.00e+00     4.20e+01 \n",
      "\t    y_2       c\t     12.000000       0.00e+00     4.20e+01 \n",
      "\n",
      "\tConstraints (i - inequality, e - equality):\n",
      "        Name    Type                    Bounds\n",
      "\t    k_0   \t  i       -1.00e+21 <= 0.000000 <= 0.00e+00\n",
      "\t    k_1   \t  i       -1.00e+21 <= -72.000000 <= 0.00e+00\n",
      "\n",
      "--------------------------------------------------------------------------------\n",
      "\n"
     ]
    }
   ],
   "source": [
    "print(opt_prob.solution(0))"
   ]
  },
  {
   "cell_type": "code",
   "execution_count": null,
   "metadata": {},
   "outputs": [],
   "source": []
  }
 ],
 "metadata": {
  "kernelspec": {
   "display_name": "Python 3",
   "language": "python",
   "name": "python3"
  },
  "language_info": {
   "codemirror_mode": {
    "name": "ipython",
    "version": 3
   },
   "file_extension": ".py",
   "mimetype": "text/x-python",
   "name": "python",
   "nbconvert_exporter": "python",
   "pygments_lexer": "ipython3",
   "version": "3.6.9"
  }
 },
 "nbformat": 4,
 "nbformat_minor": 4
}
