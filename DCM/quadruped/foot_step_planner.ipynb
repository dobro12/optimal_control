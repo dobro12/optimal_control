{
 "cells": [
  {
   "cell_type": "code",
   "execution_count": 1,
   "metadata": {},
   "outputs": [],
   "source": [
    "##### add python path #####\n",
    "import sys\n",
    "import os\n",
    "PATH = os.getcwd()\n",
    "for dir_idx, dir_name in enumerate(PATH.split('/')):\n",
    "    if 'optimal_control' in dir_name.lower():\n",
    "        PATH = '/'.join(PATH.split('/')[:(dir_idx+1)])\n",
    "        break\n",
    "if not PATH in sys.path:\n",
    "    sys.path.append(PATH)\n",
    "###########################\n",
    "\n",
    "from trajectory_planner import TrajectoryPlanner\n",
    "from gait_scheduler import GaitScheduler\n",
    "from env.quadruped.env import Env\n",
    "\n",
    "from scipy.spatial.transform import Rotation\n",
    "from copy import deepcopy\n",
    "import numpy as np\n",
    "import time"
   ]
  },
  {
   "cell_type": "code",
   "execution_count": 2,
   "metadata": {},
   "outputs": [],
   "source": [
    "env = Env(enable_draw=False, base_fix=False)\n",
    "num_leg = env.num_leg\n",
    "time_step = env.time_step\n",
    "\n",
    "gs_args = dict()\n",
    "gs_args['num_leg'] = num_leg\n",
    "gs_args['gait_period'] = 1.0\n",
    "gs_args['is_visualize'] = False\n",
    "gait_scheduler = GaitScheduler(gs_args)\n",
    "\n",
    "tp_args = dict()\n",
    "tp_args['time_step'] = 0.05\n",
    "tp_args['time_horizon'] = 20\n",
    "tp_args['max_accel'] = 0.1\n",
    "tp_args['max_ang_accel'] = 0.1\n",
    "trajectory_planner = TrajectoryPlanner(tp_args)"
   ]
  },
  {
   "cell_type": "code",
   "execution_count": 3,
   "metadata": {},
   "outputs": [],
   "source": [
    "gait_list = np.zeros((num_leg, 2)) # FR, FL, RR, RL\n",
    "gait_list[0,0] = 0.5 # offset\n",
    "gait_list[0,1] = 0.5 # duration\n",
    "gait_list[2,0] = 0.0 # offset\n",
    "gait_list[2,1] = 0.5 # duration\n",
    "gait_scheduler.gait_list = deepcopy(gait_list)\n",
    "gait_scheduler.update()\n",
    "\n",
    "vel_cmd = np.zeros(3)\n",
    "vel_cmd[0] = 0.2\n",
    "vel_cmd[1] = 0.0\n",
    "ang_vel_cmd = np.zeros(3)\n",
    "ang_vel_cmd[2] = 0.0\n",
    "height_cmd = 0.35"
   ]
  },
  {
   "cell_type": "code",
   "execution_count": 4,
   "metadata": {},
   "outputs": [],
   "source": [
    "env.reset()\n",
    "init_state = np.concatenate([env.model.com_pos, env.model.base_rpy, env.model.base_vel, env.model.base_ang_vel])\n",
    "target_trajectory_list = trajectory_planner.get_target_trajectory_list(vel_cmd, ang_vel_cmd, height_cmd, init_state)\n",
    "contact_list, step_info_list = gait_scheduler.get_contact_list(trajectory_planner.time_step, trajectory_planner.time_horizon)"
   ]
  },
  {
   "cell_type": "code",
   "execution_count": 14,
   "metadata": {},
   "outputs": [
    {
     "name": "stdout",
     "output_type": "stream",
     "text": [
      "[[0. 1. 1. 1.]\n",
      " [0. 1. 1. 1.]\n",
      " [0. 1. 1. 1.]\n",
      " [0. 1. 1. 1.]\n",
      " [0. 1. 1. 1.]\n",
      " [0. 1. 1. 1.]\n",
      " [0. 1. 1. 1.]\n",
      " [0. 1. 1. 1.]\n",
      " [0. 1. 1. 1.]\n",
      " [0. 1. 1. 1.]\n",
      " [1. 1. 1. 1.]\n",
      " [1. 1. 1. 1.]\n",
      " [1. 1. 1. 1.]\n",
      " [1. 1. 1. 1.]\n",
      " [1. 1. 1. 1.]\n",
      " [1. 1. 1. 1.]\n",
      " [1. 1. 1. 1.]\n",
      " [1. 1. 1. 1.]\n",
      " [1. 1. 1. 1.]\n",
      " [1. 1. 1. 1.]]\n",
      "[[False, [[1.0, 0, 10]]], [False, []], [False, []], [False, []]]\n"
     ]
    }
   ],
   "source": [
    "gait_scheduler.step(0.05)\n",
    "contact_list, step_info_list = gait_scheduler.get_contact_list(trajectory_planner.time_step, trajectory_planner.time_horizon)\n",
    "print(contact_list)\n",
    "print(step_info_list)"
   ]
  },
  {
   "cell_type": "code",
   "execution_count": 5,
   "metadata": {},
   "outputs": [
    {
     "name": "stdout",
     "output_type": "stream",
     "text": [
      "[[ 0.1844826  -0.13916866 -0.02764445]\n",
      " [ 0.1844826   0.13916866 -0.02764445]\n",
      " [-0.1955174  -0.13916866 -0.02764445]\n",
      " [-0.1955174   0.13916866 -0.02764445]]\n"
     ]
    }
   ],
   "source": [
    "curr_foot_pos_list = deepcopy(env.model.foot_pos_list)\n",
    "print(curr_foot_pos_list)"
   ]
  },
  {
   "cell_type": "code",
   "execution_count": 6,
   "metadata": {},
   "outputs": [
    {
     "data": {
      "text/plain": [
       "[[False, [[1.0, 10, 20]]], [False, []], [False, [[1.0, 0, 10]]], [False, []]]"
      ]
     },
     "execution_count": 6,
     "metadata": {},
     "output_type": "execute_result"
    }
   ],
   "source": [
    "step_info_list"
   ]
  },
  {
   "cell_type": "code",
   "execution_count": 7,
   "metadata": {},
   "outputs": [
    {
     "data": {
      "text/plain": [
       "array([[1., 1., 0., 1.],\n",
       "       [1., 1., 0., 1.],\n",
       "       [1., 1., 0., 1.],\n",
       "       [1., 1., 0., 1.],\n",
       "       [1., 1., 0., 1.],\n",
       "       [1., 1., 0., 1.],\n",
       "       [1., 1., 0., 1.],\n",
       "       [1., 1., 0., 1.],\n",
       "       [1., 1., 0., 1.],\n",
       "       [1., 1., 0., 1.],\n",
       "       [0., 1., 1., 1.],\n",
       "       [0., 1., 1., 1.],\n",
       "       [0., 1., 1., 1.],\n",
       "       [0., 1., 1., 1.],\n",
       "       [0., 1., 1., 1.],\n",
       "       [0., 1., 1., 1.],\n",
       "       [0., 1., 1., 1.],\n",
       "       [0., 1., 1., 1.],\n",
       "       [0., 1., 1., 1.],\n",
       "       [0., 1., 1., 1.]])"
      ]
     },
     "execution_count": 7,
     "metadata": {},
     "output_type": "execute_result"
    }
   ],
   "source": [
    "contact_list"
   ]
  },
  {
   "cell_type": "code",
   "execution_count": 17,
   "metadata": {},
   "outputs": [
    {
     "name": "stdout",
     "output_type": "stream",
     "text": [
      "[[[ 0.1844826  -0.13916866 -0.02764445]\n",
      "  [ 0.1844826   0.13916866 -0.02764445]\n",
      "  [ 0.          0.          0.        ]\n",
      "  [-0.1955174   0.13916866 -0.02764445]]\n",
      "\n",
      " [[ 0.1844826  -0.13916866 -0.02764445]\n",
      "  [ 0.1844826   0.13916866 -0.02764445]\n",
      "  [ 0.          0.          0.        ]\n",
      "  [-0.1955174   0.13916866 -0.02764445]]\n",
      "\n",
      " [[ 0.1844826  -0.13916866 -0.02764445]\n",
      "  [ 0.1844826   0.13916866 -0.02764445]\n",
      "  [ 0.          0.          0.        ]\n",
      "  [-0.1955174   0.13916866 -0.02764445]]\n",
      "\n",
      " [[ 0.1844826  -0.13916866 -0.02764445]\n",
      "  [ 0.1844826   0.13916866 -0.02764445]\n",
      "  [ 0.          0.          0.        ]\n",
      "  [-0.1955174   0.13916866 -0.02764445]]\n",
      "\n",
      " [[ 0.1844826  -0.13916866 -0.02764445]\n",
      "  [ 0.1844826   0.13916866 -0.02764445]\n",
      "  [ 0.          0.          0.        ]\n",
      "  [-0.1955174   0.13916866 -0.02764445]]\n",
      "\n",
      " [[ 0.1844826  -0.13916866 -0.02764445]\n",
      "  [ 0.1844826   0.13916866 -0.02764445]\n",
      "  [ 0.          0.          0.        ]\n",
      "  [-0.1955174   0.13916866 -0.02764445]]\n",
      "\n",
      " [[ 0.1844826  -0.13916866 -0.02764445]\n",
      "  [ 0.1844826   0.13916866 -0.02764445]\n",
      "  [ 0.          0.          0.        ]\n",
      "  [-0.1955174   0.13916866 -0.02764445]]\n",
      "\n",
      " [[ 0.1844826  -0.13916866 -0.02764445]\n",
      "  [ 0.1844826   0.13916866 -0.02764445]\n",
      "  [ 0.          0.          0.        ]\n",
      "  [-0.1955174   0.13916866 -0.02764445]]\n",
      "\n",
      " [[ 0.1844826  -0.13916866 -0.02764445]\n",
      "  [ 0.1844826   0.13916866 -0.02764445]\n",
      "  [ 0.          0.          0.        ]\n",
      "  [-0.1955174   0.13916866 -0.02764445]]\n",
      "\n",
      " [[ 0.1844826  -0.13916866 -0.02764445]\n",
      "  [ 0.1844826   0.13916866 -0.02764445]\n",
      "  [ 0.          0.          0.        ]\n",
      "  [-0.1955174   0.13916866 -0.02764445]]\n",
      "\n",
      " [[ 0.          0.          0.        ]\n",
      "  [ 0.1844826   0.13916866 -0.02764445]\n",
      "  [-0.15075    -0.049       0.        ]\n",
      "  [-0.1955174   0.13916866 -0.02764445]]\n",
      "\n",
      " [[ 0.          0.          0.        ]\n",
      "  [ 0.1844826   0.13916866 -0.02764445]\n",
      "  [-0.15075    -0.049       0.        ]\n",
      "  [-0.1955174   0.13916866 -0.02764445]]\n",
      "\n",
      " [[ 0.          0.          0.        ]\n",
      "  [ 0.1844826   0.13916866 -0.02764445]\n",
      "  [-0.15075    -0.049       0.        ]\n",
      "  [-0.1955174   0.13916866 -0.02764445]]\n",
      "\n",
      " [[ 0.          0.          0.        ]\n",
      "  [ 0.1844826   0.13916866 -0.02764445]\n",
      "  [-0.15075    -0.049       0.        ]\n",
      "  [-0.1955174   0.13916866 -0.02764445]]\n",
      "\n",
      " [[ 0.          0.          0.        ]\n",
      "  [ 0.1844826   0.13916866 -0.02764445]\n",
      "  [-0.15075    -0.049       0.        ]\n",
      "  [-0.1955174   0.13916866 -0.02764445]]\n",
      "\n",
      " [[ 0.          0.          0.        ]\n",
      "  [ 0.1844826   0.13916866 -0.02764445]\n",
      "  [-0.15075    -0.049       0.        ]\n",
      "  [-0.1955174   0.13916866 -0.02764445]]\n",
      "\n",
      " [[ 0.          0.          0.        ]\n",
      "  [ 0.1844826   0.13916866 -0.02764445]\n",
      "  [-0.15075    -0.049       0.        ]\n",
      "  [-0.1955174   0.13916866 -0.02764445]]\n",
      "\n",
      " [[ 0.          0.          0.        ]\n",
      "  [ 0.1844826   0.13916866 -0.02764445]\n",
      "  [-0.15075    -0.049       0.        ]\n",
      "  [-0.1955174   0.13916866 -0.02764445]]\n",
      "\n",
      " [[ 0.          0.          0.        ]\n",
      "  [ 0.1844826   0.13916866 -0.02764445]\n",
      "  [-0.15075    -0.049       0.        ]\n",
      "  [-0.1955174   0.13916866 -0.02764445]]\n",
      "\n",
      " [[ 0.          0.          0.        ]\n",
      "  [ 0.1844826   0.13916866 -0.02764445]\n",
      "  [-0.15075    -0.049       0.        ]\n",
      "  [-0.1955174   0.13916866 -0.02764445]]]\n"
     ]
    }
   ],
   "source": [
    "time_horizon = trajectory_planner.time_horizon\n",
    "target_foot_step_list = np.zeros((time_horizon, num_leg, 3))\n",
    "curr_foot_pos_list = deepcopy(env.model.foot_pos_list)\n",
    "pre_step_list = np.zeros((num_leg, 3))\n",
    "for leg_idx in range(num_leg):\n",
    "    step_info = step_info_list[leg_idx]\n",
    "    if len(step_info[1]) == 0:\n",
    "        target_foot_step_list[:,leg_idx, :] = curr_foot_pos_list[leg_idx]\n",
    "        pre_step_list[leg_idx, :] = curr_foot_pos_list[leg_idx]\n",
    "        continue\n",
    "\n",
    "    is_swinging, temp_step_info_list = step_info\n",
    "\n",
    "    pre_idx = 0\n",
    "    pre_foot_pos = curr_foot_pos_list[leg_idx]\n",
    "    for step_idx in range(len(temp_step_info_list)):\n",
    "        stand_period, idx1, idx2 = temp_step_info_list[step_idx]\n",
    "        target_foot_step_list[pre_idx:idx1, leg_idx, :] = pre_foot_pos\n",
    "        pre_idx = idx2\n",
    "        if step_idx == 0 and is_swinging:\n",
    "            pre_foot_pos = pre_step_list[leg_idx]\n",
    "        else:\n",
    "            state = target_trajectory_list[idx2 - 1]\n",
    "            pos_com = state[:3]\n",
    "            rpy_base = state[3:6]\n",
    "            vel_base = state[6:9]\n",
    "            ang_vel_base = state[9:]\n",
    "\n",
    "            r = Rotation.from_euler('z', rpy_base[2], degrees=False)\n",
    "            pre_foot_pos = pos_com + np.matmul(r.as_matrix(), env.model.abduct_org_list[leg_idx])\n",
    "            pre_foot_pos += stand_period*0.5*vel_base + 0.03*(vel_base - vel_cmd)\n",
    "            pre_foot_pos += 0.5*np.sqrt(height_cmd/9.8)*np.cross(vel_base, ang_vel_cmd)\n",
    "            pre_foot_pos[2] = 0.0\n",
    "\n",
    "        if step_idx == 0:\n",
    "            pre_step_list[leg_idx, :] = pre_foot_pos\n",
    "    target_foot_step_list[pre_idx:time_horizon, leg_idx, :] = pre_foot_pos\n",
    "\n",
    "print(target_foot_step_list)"
   ]
  },
  {
   "cell_type": "code",
   "execution_count": 18,
   "metadata": {},
   "outputs": [
    {
     "data": {
      "text/plain": [
       "array([[ 0.2945    , -0.049     ,  0.        ],\n",
       "       [ 0.1844826 ,  0.13916866, -0.02764445],\n",
       "       [-0.15075   , -0.049     ,  0.        ],\n",
       "       [-0.1955174 ,  0.13916866, -0.02764445]])"
      ]
     },
     "execution_count": 18,
     "metadata": {},
     "output_type": "execute_result"
    }
   ],
   "source": [
    "pre_step_list"
   ]
  },
  {
   "cell_type": "code",
   "execution_count": null,
   "metadata": {},
   "outputs": [],
   "source": []
  }
 ],
 "metadata": {
  "kernelspec": {
   "display_name": "Python 3",
   "language": "python",
   "name": "python3"
  },
  "language_info": {
   "codemirror_mode": {
    "name": "ipython",
    "version": 3
   },
   "file_extension": ".py",
   "mimetype": "text/x-python",
   "name": "python",
   "nbconvert_exporter": "python",
   "pygments_lexer": "ipython3",
   "version": "3.6.9"
  }
 },
 "nbformat": 4,
 "nbformat_minor": 4
}
