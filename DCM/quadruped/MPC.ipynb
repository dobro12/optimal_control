{
 "cells": [
  {
   "cell_type": "code",
   "execution_count": 15,
   "metadata": {},
   "outputs": [],
   "source": [
    "##### add python path #####\n",
    "import sys\n",
    "import os\n",
    "PATH = os.getcwd()\n",
    "for dir_idx, dir_name in enumerate(PATH.split('/')):\n",
    "    if 'optimal_control' in dir_name.lower():\n",
    "        PATH = '/'.join(PATH.split('/')[:(dir_idx+1)])\n",
    "        break\n",
    "if not PATH in sys.path:\n",
    "    sys.path.append(PATH)\n",
    "###########################\n",
    "\n",
    "from gait_scheduler import GaitScheduler\n",
    "from env.quadruped.env import Env\n",
    "\n",
    "from scipy.spatial.transform import Rotation\n",
    "from copy import deepcopy\n",
    "import numpy as np\n",
    "import time"
   ]
  },
  {
   "cell_type": "code",
   "execution_count": 2,
   "metadata": {},
   "outputs": [
    {
     "data": {
      "text/plain": [
       "array([ 0. ,  0. ,  0. ,  1. ,  0. ,  0. ,  0. ,  0. ,  0. ,  0. , -0.1,\n",
       "       -0.7,  1.5,  0.1, -0.7,  1.5, -0.1, -0.7,  1.5,  0.1, -0.7,  1.5,\n",
       "        0. ,  0. ,  0. ,  0. ,  0. ,  0. ,  0. ,  0. ,  0. ,  0. ,  0. ,\n",
       "        0. ,  0. ,  0. ,  0. ,  0. ])"
      ]
     },
     "execution_count": 2,
     "metadata": {},
     "output_type": "execute_result"
    }
   ],
   "source": [
    "env = Env(enable_draw=False, base_fix=False)\n",
    "env.reset()"
   ]
  },
  {
   "cell_type": "code",
   "execution_count": 40,
   "metadata": {},
   "outputs": [],
   "source": [
    "vel_cmd = np.zeros(3)\n",
    "vel_cmd[0] = 0.2\n",
    "vel_cmd[1] = 0.0\n",
    "\n",
    "ang_vel_cmd = np.zeros(3)\n",
    "ang_vel_cmd[2] = 0.0\n",
    "\n",
    "height_cmd = 0.35"
   ]
  },
  {
   "cell_type": "code",
   "execution_count": 41,
   "metadata": {},
   "outputs": [],
   "source": [
    "time_step = 0.05\n",
    "time_horizon = 20\n",
    "\n",
    "max_accel = 0.1\n",
    "max_ang_accel = 0.1"
   ]
  },
  {
   "cell_type": "code",
   "execution_count": 35,
   "metadata": {},
   "outputs": [],
   "source": [
    "target_pos_list = []\n",
    "target_vel_list = []\n",
    "target_rpy_list = []\n",
    "target_ang_vel_list = []\n",
    "\n",
    "pos_com = np.array(env.model.com_pos)\n",
    "pos_com[2] = height_cmd\n",
    "vel_base = np.array(env.model.base_vel)\n",
    "vel_base[2] = 0.0\n",
    "rpy_base = np.array(env.model.base_rpy)\n",
    "rpy_base[:2] = 0.0\n",
    "ang_vel_base = np.array(env.model.base_ang_vel)\n",
    "ang_vel_base[:2] = 0.0\n",
    "\n",
    "vel_reach_t = np.linalg.norm(vel_cmd - vel_base)/max_accel\n",
    "ang_vel_reach_t = np.linalg.norm(ang_vel_cmd - ang_vel_base)/max_ang_accel\n",
    "target_accel = max_accel*(vel_cmd - vel_base)/(np.linalg.norm(vel_cmd - vel_base) + 1e-10)\n",
    "target_ang_accel = max_ang_accel*(ang_vel_cmd - ang_vel_base)/(np.linalg.norm(ang_vel_cmd - ang_vel_base) + 1e-10)\n",
    "\n",
    "target_base_vel = deepcopy(vel_base)\n",
    "target_ang_vel = deepcopy(ang_vel_base)\n",
    "target_pos = deepcopy(pos_com)\n",
    "target_rpy = deepcopy(rpy_base)\n",
    "\n",
    "for i in range(time_horizon):\n",
    "    elapsed_t = time_step*(i + 1)\n",
    "    if elapsed_t > vel_reach_t:\n",
    "        target_base_vel = vel_cmd\n",
    "    else:\n",
    "        target_base_vel += time_step*target_accel\n",
    "    if elapsed_t > ang_vel_reach_t:\n",
    "        target_ang_vel = ang_vel_cmd\n",
    "    else:\n",
    "        target_ang_vel += time_step*target_ang_accel\n",
    "        \n",
    "    target_rpy += target_ang_vel*time_step\n",
    "    r = Rotation.from_rotvec(target_rpy)\n",
    "    target_vel = np.matmul(r.as_matrix(), target_base_vel)\n",
    "    target_pos += target_vel*time_step\n",
    "\n",
    "    target_vel_list.append(deepcopy(target_vel))\n",
    "    target_pos_list.append(deepcopy(target_pos))\n",
    "    target_rpy_list.append(deepcopy(target_rpy))\n",
    "    target_ang_vel_list.append(deepcopy(target_ang_vel))"
   ]
  },
  {
   "cell_type": "code",
   "execution_count": null,
   "metadata": {},
   "outputs": [],
   "source": []
  }
 ],
 "metadata": {
  "kernelspec": {
   "display_name": "Python 3",
   "language": "python",
   "name": "python3"
  },
  "language_info": {
   "codemirror_mode": {
    "name": "ipython",
    "version": 3
   },
   "file_extension": ".py",
   "mimetype": "text/x-python",
   "name": "python",
   "nbconvert_exporter": "python",
   "pygments_lexer": "ipython3",
   "version": "3.6.9"
  }
 },
 "nbformat": 4,
 "nbformat_minor": 4
}
