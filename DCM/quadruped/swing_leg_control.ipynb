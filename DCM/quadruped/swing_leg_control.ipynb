{
 "cells": [
  {
   "cell_type": "code",
   "execution_count": 1,
   "metadata": {},
   "outputs": [],
   "source": [
    "##### add python path #####\n",
    "import sys\n",
    "import os\n",
    "PATH = os.getcwd()\n",
    "for dir_idx, dir_name in enumerate(PATH.split('/')):\n",
    "    if 'optimal_control' in dir_name.lower():\n",
    "        PATH = '/'.join(PATH.split('/')[:(dir_idx+1)])\n",
    "        break\n",
    "if not PATH in sys.path:\n",
    "    sys.path.append(PATH)\n",
    "###########################\n",
    "\n",
    "from gait_scheduler import GaitScheduler\n",
    "from env.quadruped.env import Env\n",
    "\n",
    "from copy import deepcopy\n",
    "import numpy as np\n",
    "import time"
   ]
  },
  {
   "cell_type": "code",
   "execution_count": 2,
   "metadata": {
    "scrolled": true
   },
   "outputs": [],
   "source": [
    "env = Env(enable_draw=True, base_fix=True)\n",
    "num_leg = env.num_leg\n",
    "time_step = env.time_step\n",
    "\n",
    "gs_args = dict()\n",
    "gs_args['num_leg'] = num_leg\n",
    "gs_args['gait_period'] = 1.0\n",
    "gs_args['is_visualize'] = True\n",
    "gait_scheduler = GaitScheduler(gs_args)"
   ]
  },
  {
   "cell_type": "code",
   "execution_count": 3,
   "metadata": {},
   "outputs": [
    {
     "data": {
      "text/plain": [
       "array([ 0. ,  0. ,  0. ,  1. ,  0. ,  0. ,  0. ,  0. ,  0. ,  0. , -0.1,\n",
       "       -0.7,  1.5,  0.1, -0.7,  1.5, -0.1, -0.7,  1.5,  0.1, -0.7,  1.5,\n",
       "        0. ,  0. ,  0. ,  0. ,  0. ,  0. ,  0. ,  0. ,  0. ,  0. ,  0. ,\n",
       "        0. ,  0. ,  0. ,  0. ,  0. ])"
      ]
     },
     "execution_count": 3,
     "metadata": {},
     "output_type": "execute_result"
    }
   ],
   "source": [
    "env.reset()"
   ]
  },
  {
   "cell_type": "code",
   "execution_count": null,
   "metadata": {},
   "outputs": [],
   "source": [
    "pre_contact_list = []\n",
    "swing_trajectory_list = [[]]*num_leg\n",
    "\n",
    "global_time = 0.0\n",
    "while global_time < 10.0:\n",
    "\n",
    "    if global_time >= 1.0:\n",
    "        gait_list = np.zeros((num_leg, 2)) # FR, FL, RR, RL\n",
    "        gait_list[0,0] = 0.5 # offset\n",
    "        gait_list[0,1] = 0.5 # duration\n",
    "        gait_list[2,0] = 0.0 # offset\n",
    "        gait_list[2,1] = 0.5 # duration\n",
    "        gait_period = 1.0\n",
    "        gait_scheduler.set_gait_list(gait_list, gait_period)\n",
    "\n",
    "    contact_list, gait_info_list = gait_scheduler.step(time_step)\n",
    "    if len(pre_contact_list) != 0:\n",
    "        for leg_idx in range(num_leg):\n",
    "            if pre_contact_list[leg_idx] == 1 and contact_list[leg_idx] == 0:\n",
    "                swing_period, stand_period, swing_elapsed_time = gait_info_list[leg_idx]\n",
    "                p_init = env.model.foot_pos_list[leg_idx]\n",
    "                base_p_init = env.model.base_foot_pos_list[leg_idx]\n",
    "                ref_base_pos = env.model.base_com_pos + env.model.abduct_org_list[leg_idx] + env.model.thigh_org_list[leg_idx] \\\n",
    "                + Ts*0.5*base_target_vel + np.sqrt(target_x[2,0]/9.8)*(base_com_vel - base_target_vel)\n",
    "                    ref_base_pos[2] = z_c\n",
    "                \n",
    "                \n",
    "        p0, p_ref, ts, te = swing_trajectory\n",
    "        z0, zc = p0[2], p_ref[2]\n",
    "        desired_base_foot_pos = (p_ref - p0)*(elapsed_t - ts)/(te - ts) + p0\n",
    "        desired_base_foot_pos[2] = (z0 - zc)*(((2*elapsed_t - ts - te)/(te - ts))**2) + zc\n",
    "        desired_base_foot_vel = (p_ref - p0)/(te - ts)\n",
    "        desired_base_foot_vel[2] = 4*(z0 - zc)*(2*elapsed_t - ts - te)/((te - ts)**2)\n",
    "        desired_base_foot_acc[2] = 8*(z0 - zc)/((te - ts)**2)\n",
    "        pass\n",
    "    pre_contact_list = deepcopy(contact_list)\n",
    "    \n",
    "    force_list = np.zeros((num_leg, 3))\n",
    "    contact_list = np.ones(num_leg)\n",
    "    env.step(force_list, contact_list)\n",
    "\n",
    "    #time.sleep(time_step)\n",
    "    global_time += time_step\n",
    "    \n",
    "gait_scheduler.close()\n",
    "env.close()"
   ]
  },
  {
   "cell_type": "code",
   "execution_count": null,
   "metadata": {},
   "outputs": [],
   "source": []
  }
 ],
 "metadata": {
  "kernelspec": {
   "display_name": "Python 3",
   "language": "python",
   "name": "python3"
  },
  "language_info": {
   "codemirror_mode": {
    "name": "ipython",
    "version": 3
   },
   "file_extension": ".py",
   "mimetype": "text/x-python",
   "name": "python",
   "nbconvert_exporter": "python",
   "pygments_lexer": "ipython3",
   "version": "3.6.9"
  }
 },
 "nbformat": 4,
 "nbformat_minor": 4
}
