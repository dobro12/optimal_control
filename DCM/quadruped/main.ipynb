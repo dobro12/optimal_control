{
 "cells": [
  {
   "cell_type": "code",
   "execution_count": 14,
   "metadata": {},
   "outputs": [],
   "source": [
    "##### add python path #####\n",
    "import sys\n",
    "import os\n",
    "PATH = os.getcwd()\n",
    "for dir_idx, dir_name in enumerate(PATH.split('/')):\n",
    "    if 'optimal_control' in dir_name.lower():\n",
    "        PATH = '/'.join(PATH.split('/')[:(dir_idx+1)])\n",
    "        break\n",
    "if not PATH in sys.path:\n",
    "    sys.path.append(PATH)\n",
    "###########################\n",
    "\n",
    "from trajectory_planner import TrajectoryPlanner\n",
    "from foot_step_planner import FootStepPlanner\n",
    "from gait_scheduler import GaitScheduler\n",
    "from env.quadruped.env import Env\n",
    "\n",
    "from scipy.spatial.transform import Rotation\n",
    "from scipy.optimize import minimize\n",
    "from scipy.optimize import Bounds\n",
    "from copy import deepcopy\n",
    "import numpy as np\n",
    "import time"
   ]
  },
  {
   "cell_type": "code",
   "execution_count": 2,
   "metadata": {},
   "outputs": [],
   "source": [
    "env = Env(enable_draw=False, base_fix=False)\n",
    "num_leg = env.num_leg\n",
    "time_step = env.time_step\n",
    "\n",
    "plan_time_step = 0.05\n",
    "plan_time_horizon = 20\n",
    "\n",
    "gs_args = dict()\n",
    "gs_args['num_leg'] = num_leg\n",
    "gs_args['gait_period'] = 1.0\n",
    "gs_args['is_visualize'] = False\n",
    "gait_scheduler = GaitScheduler(gs_args)\n",
    "\n",
    "tp_args = dict()\n",
    "tp_args['time_step'] = plan_time_step\n",
    "tp_args['time_horizon'] = plan_time_horizon\n",
    "tp_args['max_accel'] = 0.1\n",
    "tp_args['max_ang_accel'] = 0.1\n",
    "trajectory_planner = TrajectoryPlanner(tp_args)\n",
    "\n",
    "fsp_args = dict()\n",
    "fsp_args['num_leg'] = num_leg\n",
    "fsp_args['time_horizon'] = plan_time_horizon\n",
    "fsp_args['abduct_org_list'] = env.model.abduct_org_list\n",
    "foot_step_planner = FootStepPlanner(fsp_args)"
   ]
  },
  {
   "cell_type": "code",
   "execution_count": 3,
   "metadata": {},
   "outputs": [],
   "source": [
    "env.reset()\n",
    "gait_scheduler.reset()\n",
    "trajectory_planner.reset()\n",
    "foot_step_planner.reset()"
   ]
  },
  {
   "cell_type": "code",
   "execution_count": 4,
   "metadata": {},
   "outputs": [],
   "source": [
    "gait_list = np.zeros((num_leg, 2)) # FR, FL, RR, RL\n",
    "gait_list[0,0] = 0.5 # offset\n",
    "gait_list[0,1] = 0.5 # duration\n",
    "gait_list[2,0] = 0.0 # offset\n",
    "gait_list[2,1] = 0.5 # duration\n",
    "gait_scheduler.gait_list = deepcopy(gait_list)\n",
    "gait_scheduler.update()\n",
    "\n",
    "vel_cmd = np.zeros(3)\n",
    "vel_cmd[0] = 0.2\n",
    "vel_cmd[1] = 0.0\n",
    "ang_vel_cmd = np.zeros(3)\n",
    "ang_vel_cmd[2] = 0.0\n",
    "height_cmd = 0.35"
   ]
  },
  {
   "cell_type": "code",
   "execution_count": 5,
   "metadata": {},
   "outputs": [],
   "source": [
    "init_state = np.concatenate([env.model.com_pos, env.model.base_rpy, env.model.base_vel, env.model.base_ang_vel])\n",
    "init_foot_pos_list = deepcopy(env.model.foot_pos_list)\n",
    "\n",
    "target_trajectory_list = trajectory_planner.get_target_trajectory_list(vel_cmd, ang_vel_cmd, height_cmd, init_state)\n",
    "contact_list, step_info_list = gait_scheduler.get_contact_list(plan_time_step, plan_time_horizon)\n",
    "target_foot_step_list = foot_step_planner.get_target_foot_step_list(init_foot_pos_list, step_info_list, target_trajectory_list, \\\n",
    "                                                                    vel_cmd, ang_vel_cmd, height_cmd)"
   ]
  },
  {
   "cell_type": "code",
   "execution_count": 35,
   "metadata": {},
   "outputs": [],
   "source": [
    "def obj_func(x, args):\n",
    "    target_trajectory_list = args[0]\n",
    "    Q_mat = args[1]\n",
    "    R_mat = args[2]\n",
    "\n",
    "    time_horizon = int(len(x)/24)\n",
    "    state_list = x[:int(len(x)/2)].reshape((time_horizon, 12))\n",
    "    force_list = x[int(len(x)/2):].reshape((time_horizon, 12))\n",
    "    \n",
    "    difference_list = state_list - target_trajectory_list\n",
    "    \n",
    "\n",
    "    #print(target_trajectory_list.shape)\n",
    "    f = 0\n",
    "    return f\n",
    "\n",
    "def obj_jacobian(x, args):\n",
    "    jacobian = np.zeros(len(x))\n",
    "    return jacobian"
   ]
  },
  {
   "cell_type": "code",
   "execution_count": 26,
   "metadata": {},
   "outputs": [],
   "source": [
    "def eq_cons_func(x):\n",
    "    e_cons = [0.0]\n",
    "    return e_cons\n",
    "\n",
    "eq_cons = {\n",
    "    'type':'eq',\n",
    "    'fun' :eq_cons_func,\n",
    "    }"
   ]
  },
  {
   "cell_type": "code",
   "execution_count": 27,
   "metadata": {},
   "outputs": [],
   "source": [
    "init_force_list = np.zeros((plan_time_horizon, 12))\n",
    "init_X = np.concatenate([target_trajectory_list.ravel(), init_force_list.ravel()])"
   ]
  },
  {
   "cell_type": "code",
   "execution_count": 28,
   "metadata": {},
   "outputs": [],
   "source": [
    "max_force = 1000.0\n",
    "lowers = np.array([-np.inf]*int(len(init_X)/2) + [-max_force]*int(len(init_X)/2))\n",
    "uppers = np.array([np.inf]*int(len(init_X)/2) + [max_force]*int(len(init_X)/2))\n",
    "bounds = Bounds(lowers, uppers)"
   ]
  },
  {
   "cell_type": "code",
   "execution_count": 37,
   "metadata": {},
   "outputs": [
    {
     "data": {
      "text/plain": [
       "array([[1, 0, 0],\n",
       "       [0, 2, 0],\n",
       "       [0, 0, 3]])"
      ]
     },
     "execution_count": 37,
     "metadata": {},
     "output_type": "execute_result"
    }
   ],
   "source": [
    "np.diag([1,2,3])"
   ]
  },
  {
   "cell_type": "code",
   "execution_count": 38,
   "metadata": {},
   "outputs": [],
   "source": [
    "Q_mat = np.eye(12) #np.diag([])\n",
    "R_mat = np.eye(12) #np.diag([])"
   ]
  },
  {
   "cell_type": "code",
   "execution_count": 39,
   "metadata": {},
   "outputs": [
    {
     "name": "stdout",
     "output_type": "stream",
     "text": [
      "(20, 12) (20, 12)\n",
      "Singular matrix C in LSQ subproblem    (Exit mode 6)\n",
      "            Current function value: 0.0\n",
      "            Iterations: 1\n",
      "            Function evaluations: 1\n",
      "            Gradient evaluations: 1\n"
     ]
    }
   ],
   "source": [
    "res = minimize(obj_func, init_X, args=[target_trajectory_list, Q_mat, R_mat], method=\"SLSQP\", jac=obj_jacobian, bounds=bounds, constraints=[eq_cons], \\\n",
    "               options={'ftol':1e-5, 'disp':True, 'maxiter':10, 'eps':1e-10})"
   ]
  },
  {
   "cell_type": "code",
   "execution_count": null,
   "metadata": {},
   "outputs": [],
   "source": []
  }
 ],
 "metadata": {
  "kernelspec": {
   "display_name": "Python 3",
   "language": "python",
   "name": "python3"
  },
  "language_info": {
   "codemirror_mode": {
    "name": "ipython",
    "version": 3
   },
   "file_extension": ".py",
   "mimetype": "text/x-python",
   "name": "python",
   "nbconvert_exporter": "python",
   "pygments_lexer": "ipython3",
   "version": "3.6.9"
  }
 },
 "nbformat": 4,
 "nbformat_minor": 4
}
