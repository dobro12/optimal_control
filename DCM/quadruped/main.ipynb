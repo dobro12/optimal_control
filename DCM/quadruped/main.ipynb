{
 "cells": [
  {
   "cell_type": "code",
   "execution_count": 1,
   "metadata": {},
   "outputs": [],
   "source": [
    "##### add python path #####\n",
    "import sys\n",
    "import os\n",
    "PATH = os.getcwd()\n",
    "for dir_idx, dir_name in enumerate(PATH.split('/')):\n",
    "    if 'optimal_control' in dir_name.lower():\n",
    "        PATH = '/'.join(PATH.split('/')[:(dir_idx+1)])\n",
    "        break\n",
    "if not PATH in sys.path:\n",
    "    sys.path.append(PATH)\n",
    "###########################\n",
    "\n",
    "from trajectory_planner import TrajectoryPlanner\n",
    "from foot_step_planner import FootStepPlanner\n",
    "from gait_scheduler import GaitScheduler\n",
    "from env.quadruped.env import Env\n",
    "\n",
    "from scipy.spatial.transform import Rotation\n",
    "from scipy.optimize import minimize\n",
    "from scipy.optimize import Bounds\n",
    "from copy import deepcopy\n",
    "import numpy as np\n",
    "import time"
   ]
  },
  {
   "cell_type": "code",
   "execution_count": 2,
   "metadata": {},
   "outputs": [],
   "source": [
    "env = Env(enable_draw=True, base_fix=False)\n",
    "num_leg = env.num_leg\n",
    "time_step = env.time_step\n",
    "base_inertia = deepcopy(env.model.inertia)\n",
    "base_mass = env.model.mass\n",
    "friction_coef = env.friction_coef\n",
    "\n",
    "plan_time_step = 0.05\n",
    "plan_time_horizon = 10\n",
    "\n",
    "gs_args = dict()\n",
    "gs_args['num_leg'] = num_leg\n",
    "gs_args['gait_period'] = 1.0\n",
    "gs_args['is_visualize'] = False\n",
    "gait_scheduler = GaitScheduler(gs_args)\n",
    "\n",
    "tp_args = dict()\n",
    "tp_args['time_step'] = plan_time_step\n",
    "tp_args['time_horizon'] = plan_time_horizon\n",
    "tp_args['max_accel'] = 0.1\n",
    "tp_args['max_ang_accel'] = 0.1\n",
    "trajectory_planner = TrajectoryPlanner(tp_args)\n",
    "\n",
    "fsp_args = dict()\n",
    "fsp_args['num_leg'] = num_leg\n",
    "fsp_args['time_horizon'] = plan_time_horizon\n",
    "fsp_args['abduct_org_list'] = env.model.abduct_org_list\n",
    "foot_step_planner = FootStepPlanner(fsp_args)"
   ]
  },
  {
   "cell_type": "code",
   "execution_count": 3,
   "metadata": {},
   "outputs": [],
   "source": [
    "env.reset()\n",
    "gait_scheduler.reset()\n",
    "trajectory_planner.reset()\n",
    "foot_step_planner.reset()"
   ]
  },
  {
   "cell_type": "code",
   "execution_count": 4,
   "metadata": {},
   "outputs": [],
   "source": [
    "'''\n",
    "gait_list = np.zeros((num_leg, 2)) # FR, FL, RR, RL\n",
    "gait_list[0,0] = 0.5 # offset\n",
    "gait_list[0,1] = 0.5 # duration\n",
    "gait_list[2,0] = 0.0 # offset\n",
    "gait_list[2,1] = 0.5 # duration\n",
    "gait_scheduler.gait_list = deepcopy(gait_list)\n",
    "gait_scheduler.update()\n",
    "'''\n",
    "\n",
    "vel_cmd = np.zeros(3)\n",
    "vel_cmd[0] = 0.2\n",
    "vel_cmd[1] = 0.0\n",
    "ang_vel_cmd = np.zeros(3)\n",
    "ang_vel_cmd[2] = 0.0\n",
    "height_cmd = 0.35"
   ]
  },
  {
   "cell_type": "code",
   "execution_count": 5,
   "metadata": {},
   "outputs": [],
   "source": [
    "init_state_list = np.concatenate([env.model.com_pos, env.model.base_rpy, env.model.base_vel, env.model.base_ang_vel])\n",
    "init_foot_pos_list = deepcopy(env.model.foot_pos_list)\n",
    "\n",
    "target_trajectory_list = trajectory_planner.get_target_trajectory_list(vel_cmd, ang_vel_cmd, height_cmd, init_state_list)\n",
    "contact_list, step_info_list = gait_scheduler.get_contact_list(plan_time_step, plan_time_horizon)\n",
    "target_foot_step_list = foot_step_planner.get_target_foot_step_list(init_foot_pos_list, step_info_list, target_trajectory_list, \\\n",
    "                                                                    vel_cmd, ang_vel_cmd, height_cmd)"
   ]
  },
  {
   "cell_type": "code",
   "execution_count": 6,
   "metadata": {},
   "outputs": [],
   "source": [
    "def obj_func(x, args):\n",
    "    target_trajectory_list = args[0]\n",
    "    Q_mat = args[1] # 12 x 12\n",
    "    R_mat = args[2] # 12 x 12\n",
    "\n",
    "    time_horizon = int(len(x)/24)\n",
    "    state_list = x[:int(len(x)/2)].reshape((time_horizon, 12))\n",
    "    force_list = x[int(len(x)/2):].reshape((time_horizon, 12))\n",
    "    \n",
    "    difference_list = state_list - target_trajectory_list # N x 12\n",
    "    f = 0.5*np.sum(np.matmul(difference_list, Q_mat)*difference_list)\n",
    "    f += 0.5*np.sum(np.matmul(force_list, R_mat)*force_list)\n",
    "    return f\n",
    "\n",
    "def obj_jacobian(x, args):\n",
    "    target_trajectory_list = args[0]\n",
    "    Q_mat = args[1] # 12 x 12\n",
    "    R_mat = args[2] # 12 x 12\n",
    "\n",
    "    time_horizon = int(len(x)/24)\n",
    "    state_list = x[:int(len(x)/2)].reshape((time_horizon, 12))\n",
    "    force_list = x[int(len(x)/2):].reshape((time_horizon, 12))\n",
    "\n",
    "    jacobian = np.zeros(len(x))\n",
    "\n",
    "    difference_list = state_list - target_trajectory_list # N x 12\n",
    "    jacobian[:12*time_horizon] = np.matmul(difference_list, Q_mat).ravel()\n",
    "    jacobian[12*time_horizon:] = np.matmul(force_list, R_mat).ravel()\n",
    "    return jacobian"
   ]
  },
  {
   "cell_type": "code",
   "execution_count": 7,
   "metadata": {},
   "outputs": [],
   "source": [
    "def get_cross_product_matrix(vector):\n",
    "    a, b, c = vector\n",
    "    mat = np.array([[0, -c, b],\n",
    "                   [c, 0, -a],\n",
    "                   [-b, a, 0]])\n",
    "    return mat"
   ]
  },
  {
   "cell_type": "code",
   "execution_count": 8,
   "metadata": {},
   "outputs": [],
   "source": [
    "def eq_cons_func(x, args):\n",
    "    init_state_list = args[0]\n",
    "    target_foot_step_list = args[1]\n",
    "    contact_list = args[2]\n",
    "    delta_t = args[3]\n",
    "    base_inertia = args[4]\n",
    "    base_mass = args[5]\n",
    "\n",
    "    time_horizon = int(len(x)/24)\n",
    "    state_list = x[:int(len(x)/2)].reshape((time_horizon, 12))\n",
    "    force_list = x[int(len(x)/2):].reshape((time_horizon, 12))\n",
    "    \n",
    "    eq_cons = []\n",
    "    state = init_state_list\n",
    "    gravity = np.zeros(12)\n",
    "    gravity[6:9] = np.array([0, 0, -9.8])\n",
    "    for time_idx in range(time_horizon):\n",
    "        next_state = state_list[time_idx]\n",
    "        force = (force_list[time_idx].reshape((4,3))*contact_list[time_idx].reshape(4,1)).ravel()\n",
    "\n",
    "        yaw = state[5]\n",
    "        r = Rotation.from_euler('z', yaw, degrees=False)\n",
    "        yaw_mat = r.as_matrix()\n",
    "        global_inertia = np.matmul(yaw_mat, np.matmul(base_inertia, yaw_mat.T))\n",
    "        inv_global_inertia = np.linalg.inv(global_inertia)\n",
    "        foot_step_list = target_foot_step_list[time_idx]\n",
    "\n",
    "        A_mat = np.eye(12)\n",
    "        A_mat[0:3, 6:9] = delta_t*np.eye(3)\n",
    "        A_mat[3:6, 9:12] = delta_t*yaw_mat\n",
    "\n",
    "        B_mat = np.zeros((12, 12))\n",
    "        for leg_idx in range(num_leg):\n",
    "            foot_step = foot_step_list[leg_idx]\n",
    "            B_mat[6:9, leg_idx*3:(leg_idx+1)*3] = np.eye(3)*(delta_t/base_mass)\n",
    "            B_mat[9:12, leg_idx*3:(leg_idx+1)*3] = delta_t*np.matmul(inv_global_inertia, get_cross_product_matrix(foot_step))\n",
    "        \n",
    "        eq_cons.append((np.matmul(A_mat, state) + np.matmul(B_mat, force) + gravity - next_state).ravel())\n",
    "        state = next_state\n",
    "\n",
    "    eq_cons = np.concatenate(eq_cons)\n",
    "    return eq_cons\n",
    "\n",
    "def eq_cons_jacobian(x, args):\n",
    "    init_state_list = args[0]\n",
    "    target_foot_step_list = args[1]\n",
    "    contact_list = args[2]\n",
    "    delta_t = args[3]\n",
    "    base_inertia = args[4]\n",
    "    base_mass = args[5]\n",
    "\n",
    "    time_horizon = int(len(x)/24)\n",
    "    state_list = x[:int(len(x)/2)].reshape((time_horizon, 12))\n",
    "    force_list = x[int(len(x)/2):].reshape((time_horizon, 12))\n",
    "    \n",
    "    eq_cons_jacobian = np.zeros((12*time_horizon, len(x)))\n",
    "    state = init_state_list\n",
    "    for time_idx in range(time_horizon):        \n",
    "        next_state = state_list[time_idx]\n",
    "        force = (force_list[time_idx].reshape((4,3))*contact_list[time_idx].reshape(4,1)).ravel()\n",
    "\n",
    "        yaw = state[5]\n",
    "        wx, wy, wz = state[9:12]\n",
    "        r = Rotation.from_euler('z', yaw, degrees=False)\n",
    "        yaw_mat = r.as_matrix()\n",
    "        global_inertia = np.matmul(yaw_mat, np.matmul(base_inertia, yaw_mat.T))\n",
    "        inv_global_inertia = np.linalg.inv(global_inertia)\n",
    "        inv_base_inertia = np.linalg.inv(base_inertia)\n",
    "        foot_step_list = target_foot_step_list[time_idx]\n",
    "\n",
    "        A_mat = np.eye(12)\n",
    "        A_mat[0:3, 6:9] = delta_t*np.eye(3)\n",
    "        A_mat[3:6, 9:12] = delta_t*yaw_mat\n",
    "\n",
    "        B_mat = np.zeros((12, 12))\n",
    "        for leg_idx in range(num_leg):\n",
    "            foot_step = foot_step_list[leg_idx]\n",
    "            B_mat[6:9, leg_idx*3:(leg_idx+1)*3] = np.eye(3)*(delta_t/base_mass)\n",
    "            B_mat[9:12, leg_idx*3:(leg_idx+1)*3] = delta_t*np.matmul(inv_global_inertia, get_cross_product_matrix(foot_step))\n",
    "        \n",
    "        if time_idx > 0:\n",
    "            eq_cons_jacobian[time_idx*12:(time_idx+1)*12, (time_idx-1)*12:time_idx*12] = A_mat\n",
    "        temp_mat = np.zeros((12,12))\n",
    "        temp_mat[3,5] = -delta_t*(wx*np.sin(yaw) + wy*np.cos(yaw))\n",
    "        temp_mat[3,6] = delta_t*(wx*np.cos(yaw) - wy*np.sin(yaw))\n",
    "        eq_cons_jacobian[time_idx*12:(time_idx+1)*12, time_idx*12:(time_idx+1)*12] += deepcopy(temp_mat)\n",
    "        \n",
    "        temp_mat = np.zeros((12,12))\n",
    "        derivative_R = np.array([[-np.sin(yaw), -np.cos(yaw), 0],[np.cos(yaw), -np.sin(yaw), 0],[0, 0, 0]])\n",
    "        a = np.zeros(3)\n",
    "        for leg_idx in range(num_leg):\n",
    "            foot_step = foot_step_list[leg_idx]\n",
    "            a += delta_t*np.cross(foot_step, force[leg_idx*3:(leg_idx+1)*3])\n",
    "        temp_mat[9:12, 5] += np.matmul(np.matmul(derivative_R, np.matmul(inv_base_inertia, yaw_mat)), a)\n",
    "        temp_mat[9:12, 5] += np.matmul(np.matmul(yaw_mat, np.matmul(inv_base_inertia, derivative_R)), a)\n",
    "        eq_cons_jacobian[time_idx*12:(time_idx+1)*12, time_idx*12:(time_idx+1)*12] += deepcopy(temp_mat)\n",
    "        eq_cons_jacobian[time_idx*12:(time_idx+1)*12, time_idx*12:(time_idx+1)*12] -= np.eye(12)\n",
    "\n",
    "        eq_cons_jacobian[time_idx*12:(time_idx+1)*12, 12*(time_horizon + time_idx):12*(time_horizon + time_idx + 1)] = B_mat\n",
    "\n",
    "        state = next_state\n",
    "    return eq_cons_jacobian\n",
    "\n",
    "eq_cons = {\n",
    "    'type':'eq',\n",
    "    'fun' :eq_cons_func,\n",
    "    'jac' :eq_cons_jacobian,\n",
    "    'args':[[init_state_list, target_foot_step_list, contact_list, plan_time_step, base_inertia, base_mass]],\n",
    "    }"
   ]
  },
  {
   "cell_type": "code",
   "execution_count": 9,
   "metadata": {},
   "outputs": [],
   "source": [
    "def ineq_cons_func(x, args):\n",
    "    contact_list = args[0]\n",
    "    friction_coef = args[1]\n",
    "\n",
    "    time_horizon = int(len(x)/24)\n",
    "    state_list = x[:int(len(x)/2)].reshape((time_horizon, 12))\n",
    "    force_list = x[int(len(x)/2):].reshape((time_horizon, 12))\n",
    "    \n",
    "    ineq_cons = []\n",
    "    for time_idx in range(time_horizon):\n",
    "        force = force_list[time_idx].reshape((4,3))*contact_list[time_idx].reshape(4,1)\n",
    "        ineq_cons.append(-abs(force[:,0]) + friction_coef*force[:,2])\n",
    "        ineq_cons.append(-abs(force[:,1]) + friction_coef*force[:,2])\n",
    "        ineq_cons.append(force[:,2])\n",
    "\n",
    "    ineq_cons = np.concatenate(ineq_cons)\n",
    "    return ineq_cons\n",
    "\n",
    "def ineq_cons_jacobian(x, args):\n",
    "    contact_list = args[0]\n",
    "    friction_coef = args[1]\n",
    "\n",
    "    time_horizon = int(len(x)/24)\n",
    "    state_list = x[:int(len(x)/2)].reshape((time_horizon, 12))\n",
    "    force_list = x[int(len(x)/2):].reshape((time_horizon, 12))\n",
    "    \n",
    "    ineq_cons_jacobian = np.zeros((12*time_horizon, len(x)))\n",
    "    for time_idx in range(time_horizon):\n",
    "        force = force_list[time_idx].reshape((4,3))*contact_list[time_idx].reshape(4,1)\n",
    "        for i in range(4):\n",
    "            ineq_cons_jacobian[12*time_idx + i, 12*(time_horizon + time_idx) + i*3] = 1 if force[i,0] < 0 else -1\n",
    "            ineq_cons_jacobian[12*time_idx + i, 12*(time_horizon + time_idx) + i*3 + 2] = friction_coef\n",
    "        for i in range(4):\n",
    "            ineq_cons_jacobian[12*time_idx + 4 + i, 12*(time_horizon + time_idx) + i*3 + 1] = 1 if force[i,1] < 0 else -1\n",
    "            ineq_cons_jacobian[12*time_idx + 4 + i, 12*(time_horizon + time_idx) + i*3 + 2] = friction_coef\n",
    "        for i in range(4):\n",
    "            ineq_cons_jacobian[12*time_idx + 8 + i, 12*(time_horizon + time_idx) + i*3 + 2] = 1\n",
    "    return ineq_cons_jacobian\n",
    "\n",
    "ineq_cons = {\n",
    "    'type':'ineq',\n",
    "    'fun' :ineq_cons_func,\n",
    "    'jac' :ineq_cons_jacobian,\n",
    "    'args':[[contact_list, friction_coef]],\n",
    "    }"
   ]
  },
  {
   "cell_type": "code",
   "execution_count": 10,
   "metadata": {},
   "outputs": [],
   "source": [
    "init_force_list = np.zeros((plan_time_horizon, 12))\n",
    "init_x_list = np.concatenate([target_trajectory_list.ravel(), init_force_list.ravel()])"
   ]
  },
  {
   "cell_type": "code",
   "execution_count": 11,
   "metadata": {},
   "outputs": [],
   "source": [
    "max_force = 1000.0\n",
    "lowers = np.array([-np.inf]*int(len(init_x_list)/2) + [-max_force]*int(len(init_x_list)/2))\n",
    "uppers = np.array([np.inf]*int(len(init_x_list)/2) + [max_force]*int(len(init_x_list)/2))\n",
    "bounds = Bounds(lowers, uppers)"
   ]
  },
  {
   "cell_type": "code",
   "execution_count": 12,
   "metadata": {},
   "outputs": [],
   "source": [
    "Q_mat = np.eye(12) #np.diag([])\n",
    "R_mat = 0.001*np.eye(12) #np.diag([])"
   ]
  },
  {
   "cell_type": "code",
   "execution_count": 25,
   "metadata": {},
   "outputs": [
    {
     "name": "stdout",
     "output_type": "stream",
     "text": [
      "Optimization terminated successfully    (Exit mode 0)\n",
      "            Current function value: 2889.613868385557\n",
      "            Iterations: 41\n",
      "            Function evaluations: 42\n",
      "            Gradient evaluations: 41\n"
     ]
    }
   ],
   "source": [
    "res = minimize(obj_func, init_x_list, args=[target_trajectory_list, Q_mat, R_mat], \\\n",
    "               method=\"SLSQP\", jac=obj_jacobian, bounds=bounds, constraints=[eq_cons, ineq_cons], \\\n",
    "               options={'ftol':1e-5, 'disp':True, 'maxiter':100, 'eps':1e-10})"
   ]
  },
  {
   "cell_type": "code",
   "execution_count": 14,
   "metadata": {},
   "outputs": [
    {
     "data": {
      "text/plain": [
       "array([ 0.,  0.,  0.,  0.,  0.,  0.,  0.,  0., -0.,  0.,  0., -0.,  0.,\n",
       "        0.,  0.,  0.,  0., -0.,  0., -0.,  0., -0., -0.,  0., -0., -0.,\n",
       "        0.,  0.,  0., -0.,  0., -0.,  0.,  0., -0.,  0.,  0., -0.,  0.,\n",
       "        0., -0., -0.,  0., -0., -0.,  0.,  0.,  0.,  0.,  0.,  0.,  0.,\n",
       "        0.,  0.,  0.,  0., -0., -0.,  0.,  0.,  0., -0.,  0.,  0., -0.,\n",
       "       -0.,  0., -0.,  0.,  0., -0., -0.,  0., -0.,  0.,  0.,  0., -0.,\n",
       "        0., -0.,  0., -0., -0.,  0., -0., -0.,  0.,  0.,  0.,  0.,  0.,\n",
       "        0.,  0.,  0., -0., -0.,  0.,  0.,  0., -0., -0.,  0.,  0.,  0.,\n",
       "        0., -0.,  0.,  0.,  0., -0.,  0., -0.,  0.,  0.,  0., -0., -0.,\n",
       "        0., -0., -0.])"
      ]
     },
     "execution_count": 14,
     "metadata": {},
     "output_type": "execute_result"
    }
   ],
   "source": [
    "eq_cons_value = eq_cons_func(res.x, *eq_cons['args'])\n",
    "eq_cons_value*(eq_cons_value > 0.001)"
   ]
  },
  {
   "cell_type": "code",
   "execution_count": 15,
   "metadata": {},
   "outputs": [
    {
     "data": {
      "text/plain": [
       "array([385.87209785, 385.87209785, 364.08116482, 364.08116482,\n",
       "       386.0935317 , 386.0935317 , 364.30259867, 364.30259867,\n",
       "       428.992813  , 428.992813  , 404.78066519, 404.78066519,\n",
       "       382.01715898, 382.01715898, 360.44433051, 360.44433051,\n",
       "       382.23374416, 382.23374416, 360.66091568, 360.66091568,\n",
       "       424.70416017, 424.70416017, 400.73435076, 400.73435076,\n",
       "       375.64123894, 375.64123894, 354.42743603, 354.42743603,\n",
       "       375.852208  , 375.852208  , 354.63840509, 354.63840509,\n",
       "       417.61356445, 417.61356445, 394.04267232, 394.04267232,\n",
       "       366.03354655, 366.03354655, 345.3616429 , 345.3616429 ,\n",
       "       366.23759878, 366.23759878, 345.56569513, 345.56569513,\n",
       "       406.93066531, 406.93066531, 383.96188348, 383.96188348,\n",
       "       352.06021796, 352.06021796, 332.18475644, 332.18475644,\n",
       "       352.25532316, 352.25532316, 332.37986165, 332.37986165,\n",
       "       391.39480352, 391.39480352, 369.31095739, 369.31095739,\n",
       "       331.98447256, 331.98447256, 313.2467102 , 313.2467102 ,\n",
       "       332.16756889, 332.16756889, 313.42980653, 313.42980653,\n",
       "       369.07507655, 369.07507655, 348.25534059, 348.25534059,\n",
       "       303.21159648, 303.21159648, 286.08104016, 286.08104016,\n",
       "       303.37815135, 303.37815135, 286.24759503, 286.24759503,\n",
       "       337.08683483, 337.08683483, 318.05288337, 318.05288337,\n",
       "       261.9414863 , 261.9414863 , 247.15959732, 247.15959732,\n",
       "       262.08488944, 262.08488944, 247.30300045, 247.30300045,\n",
       "       291.20543271, 291.20543271, 274.78111162, 274.78111162,\n",
       "       202.90024749, 202.90024749, 191.44750922, 191.44750922,\n",
       "       203.01100475, 203.01100475, 191.55826647, 191.55826647,\n",
       "       225.56778305, 225.56778305, 212.8425183 , 212.8425183 ,\n",
       "       118.81552348, 118.81552348, 112.11238791, 112.11238791,\n",
       "       118.88021986, 118.88021986, 112.17708429, 112.17708429,\n",
       "       132.08913318, 132.08913318, 124.64120477, 124.64120477])"
      ]
     },
     "execution_count": 15,
     "metadata": {},
     "output_type": "execute_result"
    }
   ],
   "source": [
    "ineq_cons_value = ineq_cons_func(res.x, *ineq_cons['args'])\n",
    "ineq_cons_value"
   ]
  },
  {
   "cell_type": "code",
   "execution_count": 16,
   "metadata": {},
   "outputs": [],
   "source": [
    "cube = env.pybullet_client.loadURDF(\"cube_small.urdf\")"
   ]
  },
  {
   "cell_type": "code",
   "execution_count": 17,
   "metadata": {},
   "outputs": [],
   "source": [
    "collisionFilterGroup = 0x2\n",
    "collisionFilterMask = 0x2\n",
    "for i in range(env.pybullet_client.getNumJoints(env.model.sim_model)):\n",
    "    env.pybullet_client.setCollisionFilterGroupMask(env.model.sim_model, i, collisionFilterGroup, collisionFilterMask)\n",
    "\n",
    "for i in range(env.pybullet_client.getNumJoints(cube)):\n",
    "    env.pybullet_client.setCollisionFilterGroupMask(cube, i, collisionFilterGroup, collisionFilterMask)\n",
    "\n",
    "collisionFilterGroup2 = 0x1\n",
    "collisionFilterMask2 = 0x1 \n",
    "env.pybullet_client.setCollisionFilterGroupMask(env.planeId, -1, collisionFilterGroup2, collisionFilterMask2)"
   ]
  },
  {
   "cell_type": "code",
   "execution_count": 26,
   "metadata": {},
   "outputs": [],
   "source": [
    "i = 0"
   ]
  },
  {
   "cell_type": "code",
   "execution_count": 34,
   "metadata": {},
   "outputs": [
    {
     "name": "stdout",
     "output_type": "stream",
     "text": [
      "[ 1.15930487e-02  3.63860820e-15 -7.27188716e-01] [0.014 0.    0.35 ]\n"
     ]
    }
   ],
   "source": [
    "state = res.x[i*12:(i+1)*12]\n",
    "pos_base = state[:3]\n",
    "rpy_base = state[3:6]\n",
    "vel_base = state[6:9]\n",
    "ang_vel_base = state[9:]\n",
    "orn_base = env.pybullet_client.getQuaternionFromEuler(rpy_base)\n",
    "\n",
    "env.pybullet_client.resetBasePositionAndOrientation(cube, pos_base, orn_base)\n",
    "env.pybullet_client.resetBaseVelocity(cube, np.zeros(3), np.zeros(3))\n",
    "\n",
    "print(pos_base, target_trajectory_list[i,:3])\n",
    "\n",
    "i += 1"
   ]
  },
  {
   "cell_type": "code",
   "execution_count": 20,
   "metadata": {},
   "outputs": [],
   "source": [
    "force_result = res.x[12*plan_time_horizon:].reshape((plan_time_horizon, 4, 3))"
   ]
  },
  {
   "cell_type": "code",
   "execution_count": 21,
   "metadata": {},
   "outputs": [
    {
     "data": {
      "text/plain": [
       "array([[[ 2.21433850e-01,  2.15384413e-13,  4.28992813e+02],\n",
       "        [ 2.21433850e-01,  2.14714492e-13,  4.28992813e+02],\n",
       "        [ 2.21433850e-01,  6.06220005e-14,  4.04780665e+02],\n",
       "        [ 2.21433850e-01,  8.79776036e-14,  4.04780665e+02]],\n",
       "\n",
       "       [[ 2.16585175e-01,  1.75194443e-13,  4.24704160e+02],\n",
       "        [ 2.16585175e-01,  1.76268787e-13,  4.24704160e+02],\n",
       "        [ 2.16585175e-01,  8.71633249e-14,  4.00734351e+02],\n",
       "        [ 2.16585175e-01,  1.96256518e-13,  4.00734351e+02]],\n",
       "\n",
       "       [[ 2.10969060e-01, -7.19357587e-14,  4.17613564e+02],\n",
       "        [ 2.10969060e-01, -7.28166087e-14,  4.17613564e+02],\n",
       "        [ 2.10969060e-01,  3.34123695e-13,  3.94042672e+02],\n",
       "        [ 2.10969060e-01,  2.38643161e-13,  3.94042672e+02]],\n",
       "\n",
       "       [[ 2.04052227e-01,  2.30266171e-13,  4.06930665e+02],\n",
       "        [ 2.04052227e-01,  2.18308647e-13,  4.06930665e+02],\n",
       "        [ 2.04052227e-01, -4.87556801e-15,  3.83961883e+02],\n",
       "        [ 2.04052227e-01, -9.97537146e-14,  3.83961883e+02]],\n",
       "\n",
       "       [[ 1.95105206e-01,  3.08010578e-14,  3.91394804e+02],\n",
       "        [ 1.95105206e-01, -1.59840824e-15,  3.91394804e+02],\n",
       "        [ 1.95105206e-01,  1.70769455e-13,  3.69310957e+02],\n",
       "        [ 1.95105206e-01,  2.36046701e-13,  3.69310957e+02]],\n",
       "\n",
       "       [[ 1.83096329e-01,  2.15221296e-13,  3.69075077e+02],\n",
       "        [ 1.83096329e-01,  2.27569466e-13,  3.69075077e+02],\n",
       "        [ 1.83096329e-01, -9.31408175e-14,  3.48255341e+02],\n",
       "        [ 1.83096329e-01,  2.88651693e-14,  3.48255341e+02]],\n",
       "\n",
       "       [[ 1.66554870e-01,  1.65388866e-13,  3.37086835e+02],\n",
       "        [ 1.66554870e-01,  1.73726701e-13,  3.37086835e+02],\n",
       "        [ 1.66554870e-01, -3.45554177e-14,  3.18052883e+02],\n",
       "        [ 1.66554870e-01, -1.06203524e-15,  3.18052883e+02]],\n",
       "\n",
       "       [[ 1.43403136e-01,  1.70592562e-13,  2.91205433e+02],\n",
       "        [ 1.43403136e-01,  2.12793295e-13,  2.91205433e+02],\n",
       "        [ 1.43403136e-01, -1.30432395e-13,  2.74781112e+02],\n",
       "        [ 1.43403136e-01, -3.37689349e-13,  2.74781112e+02]],\n",
       "\n",
       "       [[ 1.10757256e-01, -1.86601817e-13,  2.25567783e+02],\n",
       "        [ 1.10757256e-01, -2.38671217e-13,  2.25567783e+02],\n",
       "        [ 1.10757256e-01,  2.80454542e-13,  2.12842518e+02],\n",
       "        [ 1.10757256e-01,  2.04880039e-13,  2.12842518e+02]],\n",
       "\n",
       "       [[ 6.46963860e-02,  1.02994437e-13,  1.32089133e+02],\n",
       "        [ 6.46963860e-02,  9.41441353e-14,  1.32089133e+02],\n",
       "        [ 6.46963860e-02, -8.58610848e-14,  1.24641205e+02],\n",
       "        [ 6.46963860e-02,  1.96953702e-13,  1.24641205e+02]]])"
      ]
     },
     "execution_count": 21,
     "metadata": {},
     "output_type": "execute_result"
    }
   ],
   "source": [
    "force_result"
   ]
  },
  {
   "cell_type": "code",
   "execution_count": null,
   "metadata": {},
   "outputs": [],
   "source": []
  }
 ],
 "metadata": {
  "kernelspec": {
   "display_name": "Python 3",
   "language": "python",
   "name": "python3"
  },
  "language_info": {
   "codemirror_mode": {
    "name": "ipython",
    "version": 3
   },
   "file_extension": ".py",
   "mimetype": "text/x-python",
   "name": "python",
   "nbconvert_exporter": "python",
   "pygments_lexer": "ipython3",
   "version": "3.6.9"
  }
 },
 "nbformat": 4,
 "nbformat_minor": 4
}
